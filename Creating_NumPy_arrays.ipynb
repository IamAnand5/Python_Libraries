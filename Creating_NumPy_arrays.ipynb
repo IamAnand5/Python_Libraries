{
 "cells": [
  {
   "cell_type": "markdown",
   "id": "1ec8fdc2",
   "metadata": {},
   "source": [
    "#### What is NumPy?\n",
    "\n",
    "  NumPy is the fundamental package for scientific computing in Python. It is a Python library that provides a multidimensional array object, various derived objects (such as masked array and matrices).\n",
    "\n",
    "  At the core of the NumPy package, is the N-D array object. This encapsulates n-dimensional arrays of homogeneous data types.\n",
    "\n",
    "#### NumPy v/s Python Sequences\n",
    "\n",
    "1.) NumPy array have a fixed size at creation, unlike Python lists (which can grow dynamically). Changing the size of an nd-array will create a new array and delete the original.\n",
    "\n",
    "2.) The elements in a NumPy array are all required to be of the same data type, and thus will be the same size in memory.\n",
    "\n",
    "3.) NumPy arrays facilitate advanced mathematical and other types of operations on large numers of data.\n",
    "\n",
    "4.) Various other libraries like Pandas, SciKit, MatplotLib etc. used core concept of NumPy array oject."
   ]
  },
  {
   "cell_type": "markdown",
   "id": "60f8e779",
   "metadata": {},
   "source": [
    "### Creating NumPy Arrays\n",
    "\n",
    "Following functions are used to create different types of arrays.\n",
    "\n",
    "1. np.array and np.dtype\n",
    "2. np.arange and np.reshape\n",
    "3. np.ones, np.zeros and np.random\n",
    "4. np.linspace\n",
    "5. np.identity\n"
   ]
  },
  {
   "cell_type": "markdown",
   "id": "a94a3a52",
   "metadata": {},
   "source": [
    "### In simple terms Numpy\n",
    "\n",
    "##### Numpy is a scientific computing library, jisme ek important cheez hoti hai wo hai numpy array aur us array se kuch aur objects bhi bnaye gye hain numpy library k ander jaise ki metrices, masked array, structured array; ye kuch derrived objects hain aur numpy in objects k uper kuch functionality provide krta hai jo aap apply kr skte ho jaise mathematical functions, i/o,sorting, searching, linear algebra, statistics functions etc.\n",
    "\n",
    "###### All in all ek mathematical library hai and jo sbse main cheez hai wo hai array object jaise python ka data type hota hai list usi tarike se numpy ka datatype hai jisko hm bulate hain numpy array (core of numpy). Numpy array homogenous data types ko hold karta hai, means usme hm ek hi type ka data rakh skte hain.\n",
    "\n",
    "##### What is the need of Numpy? (jrurat kyn hai numpy ki?)\n",
    "###### pehle jb data science ya analysis kiya jata tha tho wo matlab ya R language me hota tha kynki uss time pe python ko slow programming language consider kiya jata tha. kynki python ke datatypes design ki wajah se slow hain. fir jb Numpy existence me aya jisme numpy array object ka use hota tha, usme Numpy array ko bnaya gya C mein but syntax rakha gya python ka kynki python ka syntax easy hai, to iss se hme comfortable mila python ka and speed mili C wali aur data science and analysis krna easy ho gya. pandas, matplotlib, scikit learn sbhi numpy object based libraries hain."
   ]
  },
  {
   "cell_type": "code",
   "execution_count": 32,
   "id": "f60513b7",
   "metadata": {},
   "outputs": [
    {
     "name": "stdout",
     "output_type": "stream",
     "text": [
      "[1 2 3]\n",
      "<class 'numpy.ndarray'>\n"
     ]
    }
   ],
   "source": [
    "# np.array: import numpy as np (short form)\n",
    "\n",
    "import numpy as np\n",
    "\n",
    "a = np.array([1,2,3])   #like list in python. We can called it as vector or one dimensional array\n",
    "print(a)\n",
    "print(type(a))"
   ]
  },
  {
   "cell_type": "code",
   "execution_count": 33,
   "id": "e7a5304c",
   "metadata": {},
   "outputs": [
    {
     "name": "stdout",
     "output_type": "stream",
     "text": [
      "[[1 2 3]\n",
      " [4 5 6]]\n"
     ]
    }
   ],
   "source": [
    "# 2D: can create 2D array called as matrix\n",
    "b = np.array([[1,2,3],[4,5,6]])  #can called it as matrix\n",
    "print(b)"
   ]
  },
  {
   "cell_type": "code",
   "execution_count": 34,
   "id": "73356de8",
   "metadata": {},
   "outputs": [
    {
     "name": "stdout",
     "output_type": "stream",
     "text": [
      "[[[1 2 3]\n",
      "  [4 5 6]]\n",
      "\n",
      " [[4 3 1]\n",
      "  [9 6 5]]]\n"
     ]
    }
   ],
   "source": [
    "# 3D array: used to create 3D array called tensors\n",
    "\n",
    "c = np.array([[[1,2,3],[4,5,6]],[[4,3,1],[9,6,5]]])\n",
    "print(c)   #can call it as tensor\n"
   ]
  },
  {
   "cell_type": "code",
   "execution_count": 35,
   "id": "8c1f6c9d",
   "metadata": {},
   "outputs": [
    {
     "name": "stdout",
     "output_type": "stream",
     "text": [
      "[2. 3. 4.]\n",
      "[False  True  True False]\n",
      "[5.+0.j 3.+0.j 6.+0.j 9.+0.j]\n"
     ]
    }
   ],
   "source": [
    "# dtype: can create NumPy array of own choice using dtype.\n",
    "\n",
    "d = np.array([2,3,4],dtype=float)\n",
    "print(d)\n",
    "\n",
    "e = np.array([0,1,4,0], dtype=bool)\n",
    "print(e)  #consider 0 as false and treat other any non zero number as 1\n",
    "\n",
    "f = np.array([5,3,6,9],dtype = complex)\n",
    "print(f)"
   ]
  },
  {
   "cell_type": "code",
   "execution_count": 36,
   "id": "b001f52a",
   "metadata": {},
   "outputs": [
    {
     "name": "stdout",
     "output_type": "stream",
     "text": [
      "[1 3 5 7 9]\n"
     ]
    }
   ],
   "source": [
    "# arange function: to find the range of given parameters\n",
    "\n",
    "g = np.arange(1,11,2)\n",
    "print(g)"
   ]
  },
  {
   "cell_type": "code",
   "execution_count": 37,
   "id": "936a049f",
   "metadata": {},
   "outputs": [
    {
     "name": "stdout",
     "output_type": "stream",
     "text": [
      "[[ 1  2  3  4]\n",
      " [ 5  6  7  8]\n",
      " [ 9 10 11 12]]\n",
      "[[ 1  2]\n",
      " [ 3  4]\n",
      " [ 5  6]\n",
      " [ 7  8]\n",
      " [ 9 10]\n",
      " [11 12]]\n"
     ]
    },
    {
     "ename": "ValueError",
     "evalue": "cannot reshape array of size 12 into shape (5,4)",
     "output_type": "error",
     "traceback": [
      "\u001b[1;31m---------------------------------------------------------------------------\u001b[0m",
      "\u001b[1;31mValueError\u001b[0m                                Traceback (most recent call last)",
      "Cell \u001b[1;32mIn[37], line 9\u001b[0m\n\u001b[0;32m      6\u001b[0m h1 \u001b[38;5;241m=\u001b[39m np\u001b[38;5;241m.\u001b[39marange(\u001b[38;5;241m1\u001b[39m,\u001b[38;5;241m13\u001b[39m)\u001b[38;5;241m.\u001b[39mreshape(\u001b[38;5;241m6\u001b[39m,\u001b[38;5;241m2\u001b[39m)  \u001b[38;5;66;03m#can change the order to 2*6\u001b[39;00m\n\u001b[0;32m      7\u001b[0m \u001b[38;5;28mprint\u001b[39m(h1)\n\u001b[1;32m----> 9\u001b[0m h2 \u001b[38;5;241m=\u001b[39m np\u001b[38;5;241m.\u001b[39marange(\u001b[38;5;241m1\u001b[39m,\u001b[38;5;241m13\u001b[39m)\u001b[38;5;241m.\u001b[39mreshape(\u001b[38;5;241m5\u001b[39m,\u001b[38;5;241m4\u001b[39m)  \u001b[38;5;66;03m#can't do this because the range is 12 and product is 20,which is not possible\u001b[39;00m\n\u001b[0;32m     10\u001b[0m \u001b[38;5;28mprint\u001b[39m(h2)\n",
      "\u001b[1;31mValueError\u001b[0m: cannot reshape array of size 12 into shape (5,4)"
     ]
    }
   ],
   "source": [
    "# reshape: convert the shape of array. But condition is that the product of two numbers equal to the given range of array.\n",
    "\n",
    "h = np.arange(1,13).reshape(3,4)  #can change the order to 4*3\n",
    "print(h)\n",
    "\n",
    "h1 = np.arange(1,13).reshape(6,2)  #can change the order to 2*6\n",
    "print(h1)\n",
    "\n",
    "h2 = np.arange(1,13).reshape(5,4)  #can't do this because the range is 12 and product is 20,which is not possible\n",
    "print(h2)  #produce value error"
   ]
  },
  {
   "cell_type": "code",
   "execution_count": 69,
   "id": "bc66894d",
   "metadata": {},
   "outputs": [
    {
     "name": "stdout",
     "output_type": "stream",
     "text": [
      "[[1. 1. 1. 1.]\n",
      " [1. 1. 1. 1.]\n",
      " [1. 1. 1. 1.]]\n",
      "[[0. 0. 0. 0.]\n",
      " [0. 0. 0. 0.]\n",
      " [0. 0. 0. 0.]]\n"
     ]
    }
   ],
   "source": [
    "# np.ones and np.zeros: can create numpy array whose all elements are one or zero at the same time\n",
    "# need to provide tuple (3,4) here\n",
    "# use case: where you need to initialize something immediately\n",
    "\n",
    "i = np.ones((3,4))\n",
    "print(i)\n",
    "\n",
    "i1 = np.zeros((3,4))\n",
    "print(i1)"
   ]
  },
  {
   "cell_type": "code",
   "execution_count": 71,
   "id": "9175efd2",
   "metadata": {},
   "outputs": [
    {
     "name": "stdout",
     "output_type": "stream",
     "text": [
      "[[0.22125448 0.36354413 0.11949553 0.87603803 0.82982665 0.79044193\n",
      "  0.26993978 0.10585935 0.86385896]]\n"
     ]
    }
   ],
   "source": [
    "# np.random: generates random numbers between the given range.\n",
    "\n",
    "j = np.random.random((1,9))\n",
    "print(j)"
   ]
  },
  {
   "cell_type": "code",
   "execution_count": 73,
   "id": "e851809e",
   "metadata": {},
   "outputs": [
    {
     "name": "stdout",
     "output_type": "stream",
     "text": [
      "[-10.          -7.77777778  -5.55555556  -3.33333333  -1.11111111\n",
      "   1.11111111   3.33333333   5.55555556   7.77777778  10.        ]\n"
     ]
    }
   ],
   "source": [
    "# np.linspace: generate linear items in the given range with equal distances\n",
    "\n",
    "k = np.linspace(-10,10,10)\n",
    "print(k)\n",
    "\n",
    "# where -10 defines the lower range; 10 defines the upper range and 10 defines the number of items to generate"
   ]
  },
  {
   "cell_type": "code",
   "execution_count": 75,
   "id": "af12344f",
   "metadata": {},
   "outputs": [
    {
     "name": "stdout",
     "output_type": "stream",
     "text": [
      "[[1. 0. 0.]\n",
      " [0. 1. 0.]\n",
      " [0. 0. 1.]]\n"
     ]
    }
   ],
   "source": [
    "# np.identity: used to create identity matrix(whose diagonal items are 1)\n",
    "\n",
    "l = np.identity(3)\n",
    "print(l)"
   ]
  },
  {
   "cell_type": "markdown",
   "id": "84678108-ca5b-43fa-a73b-56d5b918495b",
   "metadata": {},
   "source": [
    "### Numpy Array Attributes\n",
    "##### Har numpy array numpy class ka object hai to har numpy array jo hm bna rhe hain wo numpy class ke kuch attributes ko access kar sakta hai, here we are going to discuss those numpy class ke attributes."
   ]
  },
  {
   "cell_type": "code",
   "execution_count": 78,
   "id": "1d14bbbd-a50e-43d3-a312-183c1077530a",
   "metadata": {},
   "outputs": [
    {
     "name": "stdout",
     "output_type": "stream",
     "text": [
      "\n",
      " [0 1 2 3 4 5 6 7 8 9]\n",
      "\n",
      " [[ 0.  1.  2.  3.]\n",
      " [ 4.  5.  6.  7.]\n",
      " [ 8.  9. 10. 11.]]\n",
      "\n",
      " [[[0 1]\n",
      "  [2 3]]\n",
      "\n",
      " [[4 5]\n",
      "  [6 7]]]\n"
     ]
    }
   ],
   "source": [
    "a1 = np.arange(10)    #vector\n",
    "a2 = np.arange(12, dtype=float).reshape(3,4)    #matrix or 2D array\n",
    "a3 = np.arange(8).reshape(2,2,2)      #tensor or multidimensional array\n",
    "\n",
    "print(\"\\n\",a1)\n",
    "print(\"\\n\",a2)\n",
    "print('\\n',a3)"
   ]
  },
  {
   "cell_type": "code",
   "execution_count": 80,
   "id": "ef910655-c1de-420b-88dc-7810fb658548",
   "metadata": {},
   "outputs": [
    {
     "name": "stdout",
     "output_type": "stream",
     "text": [
      "1\n",
      "2\n",
      "3\n"
     ]
    }
   ],
   "source": [
    "# ndim (number of dimension): given array ka dimension btata hai ki array 1D,2D,3D ya multidimensional hai\n",
    "\n",
    "print(a1.ndim)\n",
    "print(a2.ndim)\n",
    "print(a3.ndim)"
   ]
  },
  {
   "cell_type": "code",
   "execution_count": 82,
   "id": "01bbd76a-dcbb-4a6f-89cc-7e4e9b63d387",
   "metadata": {},
   "outputs": [
    {
     "name": "stdout",
     "output_type": "stream",
     "text": [
      "(10,)\n",
      "(3, 4)\n",
      "(2, 2, 2)\n"
     ]
    }
   ],
   "source": [
    "# shape: tells ki har dimension mein kitne items hain, example matrix me rows and columns kitne hain\n",
    "\n",
    "print(a1.shape)\n",
    "print(a2.shape)\n",
    "print(a3.shape)    # results (2,2,2) which means (no.of arrays, no.of rows, no. of columns)"
   ]
  },
  {
   "cell_type": "code",
   "execution_count": 84,
   "id": "7042315a-b7b5-4ea8-8fcf-2738660eb442",
   "metadata": {},
   "outputs": [
    {
     "name": "stdout",
     "output_type": "stream",
     "text": [
      "10\n",
      "12\n",
      "8\n"
     ]
    }
   ],
   "source": [
    "# size: tells the number of items in array\n",
    "\n",
    "print(a1.size)\n",
    "print(a2.size)\n",
    "print(a3.size)"
   ]
  },
  {
   "cell_type": "code",
   "execution_count": 86,
   "id": "203d9205-b24b-4b7c-bcf5-2aab413fb023",
   "metadata": {},
   "outputs": [
    {
     "name": "stdout",
     "output_type": "stream",
     "text": [
      "4\n",
      "8\n",
      "4\n"
     ]
    }
   ],
   "source": [
    "# itemsize: tells har item memory mein kitna size occupy kar rha hai\n",
    "\n",
    "print(a1.itemsize)\n",
    "print(a2.itemsize)\n",
    "print(a3.itemsize)"
   ]
  },
  {
   "cell_type": "code",
   "execution_count": 88,
   "id": "47f30c51-2a97-471d-b925-cf5a36c122a3",
   "metadata": {},
   "outputs": [
    {
     "name": "stdout",
     "output_type": "stream",
     "text": [
      "int32\n",
      "float64\n",
      "int32\n"
     ]
    }
   ],
   "source": [
    "# dtype: tells the datatype of items in an array\n",
    "\n",
    "print(a1.dtype)\n",
    "print(a2.dtype)\n",
    "print(a3.dtype)"
   ]
  },
  {
   "cell_type": "markdown",
   "id": "5bd39ade-41bb-4603-9b99-4a779ec44b61",
   "metadata": {},
   "source": [
    "### Changing Datatype"
   ]
  },
  {
   "cell_type": "code",
   "execution_count": 91,
   "id": "556c2655-b44f-409f-a2af-9f75a6758396",
   "metadata": {},
   "outputs": [
    {
     "data": {
      "text/plain": [
       "array([[[0, 1],\n",
       "        [2, 3]],\n",
       "\n",
       "       [[4, 5],\n",
       "        [6, 7]]])"
      ]
     },
     "execution_count": 91,
     "metadata": {},
     "output_type": "execute_result"
    }
   ],
   "source": [
    "# astype: to represent a higher data type to lower data type (example int64 to int32, float to int32)\n",
    "# astype is basically to reduce the memory size of a column where it is reqd. to reduce.\n",
    "\n",
    "a3.astype(np.int32)"
   ]
  },
  {
   "cell_type": "markdown",
   "id": "d58a3a2c-1054-4b0c-9ff8-f27f46c272a9",
   "metadata": {},
   "source": [
    "### Array Operations:\n",
    "###### we can perform all mathematical operations on array. Two type of operations we have Scalar and Vector."
   ]
  },
  {
   "cell_type": "code",
   "execution_count": 94,
   "id": "c77f2414-8cf9-4293-83c1-748200575588",
   "metadata": {},
   "outputs": [
    {
     "name": "stdout",
     "output_type": "stream",
     "text": [
      "[[ 0  1  2  3]\n",
      " [ 4  5  6  7]\n",
      " [ 8  9 10 11]]\n",
      "[[12 13 14 15]\n",
      " [16 17 18 19]\n",
      " [20 21 22 23]]\n"
     ]
    }
   ],
   "source": [
    "a1 = np.arange(12).reshape(3,4)\n",
    "a2 = np.arange(12,24).reshape(3,4)\n",
    "\n",
    "print(a1)\n",
    "print(a2)"
   ]
  },
  {
   "cell_type": "code",
   "execution_count": 96,
   "id": "fbe85c96-5647-407c-8d5a-79212f9f62af",
   "metadata": {},
   "outputs": [
    {
     "name": "stdout",
     "output_type": "stream",
     "text": [
      "[[ 0  3  6  9]\n",
      " [12 15 18 21]\n",
      " [24 27 30 33]]\n"
     ]
    }
   ],
   "source": [
    "# Scalar operation: We can perform all aritmetic operations.\n",
    "# #(Scalar operation numpy array and scalar (yani number) ke beech me hota hai).\n",
    "# arithmetic\n",
    "\n",
    "print(a1 * 3)    # multiplies each item of matrix a1 with scalar 3."
   ]
  },
  {
   "cell_type": "code",
   "execution_count": 98,
   "id": "d7299d79-7722-4f15-91b7-2c4d39befbe0",
   "metadata": {},
   "outputs": [
    {
     "name": "stdout",
     "output_type": "stream",
     "text": [
      "[[False False False False]\n",
      " [ True  True  True  True]\n",
      " [ True  True  True  True]]\n"
     ]
    }
   ],
   "source": [
    "# relational: Can perform all relational operations\n",
    "\n",
    "print(a2 > 15)    # make comparison of each element of matrix with the provided scalar"
   ]
  },
  {
   "cell_type": "code",
   "execution_count": 100,
   "id": "49da311a-a108-47dc-9682-d2a9da0aa966",
   "metadata": {},
   "outputs": [
    {
     "name": "stdout",
     "output_type": "stream",
     "text": [
      "[[12 14 16 18]\n",
      " [20 22 24 26]\n",
      " [28 30 32 34]]\n",
      "[[  0  13  28  45]\n",
      " [ 64  85 108 133]\n",
      " [160 189 220 253]]\n",
      "[[0.         0.07692308 0.14285714 0.2       ]\n",
      " [0.25       0.29411765 0.33333333 0.36842105]\n",
      " [0.4        0.42857143 0.45454545 0.47826087]]\n",
      "[[12 13 14 15]\n",
      " [20 21 22 23]\n",
      " [28 29 30 31]]\n"
     ]
    }
   ],
   "source": [
    "# Vector operations: When we apply an operator on two numpy arrays. We can perform all operations here in numpy array matrix.\n",
    "#(vector operation 2 numpy arrays ke beech me hota hai). But shape should be same in this case.\n",
    "print(a1+a2)\n",
    "print(a1*a2)\n",
    "print(a1/a2)\n",
    "print(a1|a2)"
   ]
  },
  {
   "cell_type": "markdown",
   "id": "fc035116-c65c-4b92-bdc2-ec7e6eefcc3e",
   "metadata": {},
   "source": [
    "### Numpy Array Functions"
   ]
  },
  {
   "cell_type": "code",
   "execution_count": 103,
   "id": "7dc876db-720b-4a21-a783-d64f1db22624",
   "metadata": {},
   "outputs": [
    {
     "name": "stdout",
     "output_type": "stream",
     "text": [
      "[[78.  6.  0.]\n",
      " [98. 61.  5.]\n",
      " [ 1. 74. 29.]]\n"
     ]
    }
   ],
   "source": [
    "# randomly generated array\n",
    "\n",
    "a1 = np.random.random((3,3))   #generate random number between 1 to 100\n",
    "a1 = np.round(a1*100)    #to round of the items multiply array a1 with 100\n",
    "print(a1)"
   ]
  },
  {
   "cell_type": "code",
   "execution_count": 105,
   "id": "3de36dff-bf9c-47ac-bc5b-e24433a164b2",
   "metadata": {},
   "outputs": [
    {
     "name": "stdout",
     "output_type": "stream",
     "text": [
      "0.0\n",
      "98.0\n",
      "352.0\n",
      "0.0\n"
     ]
    }
   ],
   "source": [
    "# min/max/sum/prod: provide minimum, maximum, sum, product of array items.\n",
    "\n",
    "print(np.min(a1))\n",
    "print(np.max(a1))\n",
    "print(np.sum(a1))\n",
    "print(np.prod(a1))"
   ]
  },
  {
   "cell_type": "code",
   "execution_count": 107,
   "id": "a51ee745-7f42-4e92-a5ee-708ece0d6762",
   "metadata": {},
   "outputs": [
    {
     "name": "stdout",
     "output_type": "stream",
     "text": [
      "[1. 6. 0.]\n",
      "[78. 98. 74.]\n",
      "[177. 141.  34.]\n",
      "[    0. 29890.  2146.]\n"
     ]
    }
   ],
   "source": [
    "# if you want to find the har row ka min, max, sum, product.\n",
    "# 0 means column and 1 means row for axis value\n",
    "\n",
    "print(np.min(a1,axis=0))   # column wise\n",
    "print(np.max(a1,axis=1))   # row wise\n",
    "print(np.sum(a1,axis=0))  \n",
    "print(np.prod(a1,axis=1)) "
   ]
  },
  {
   "cell_type": "code",
   "execution_count": 109,
   "id": "1f63c75d-0616-483c-8e90-51aeb703750a",
   "metadata": {},
   "outputs": [
    {
     "name": "stdout",
     "output_type": "stream",
     "text": [
      "[59.         47.         11.33333333]\n",
      "[ 6. 61. 29.]\n",
      "[1748.66666667  868.66666667  160.22222222]\n",
      "[35.44009029 38.2302963  30.07028803]\n"
     ]
    }
   ],
   "source": [
    "# mean/median/std/var: can calculate statistical operations\n",
    "\n",
    "print(np.mean(a1,axis=0))   # display mean of column items\n",
    "print(np.median(a1,axis=1))   # display median of row items\n",
    "print(np.var(a1,axis=0))    # display variance of column items\n",
    "print(np.std(a1,axis=1))    # diplay standard deviation of row items"
   ]
  },
  {
   "cell_type": "code",
   "execution_count": 111,
   "id": "3d340b78-acd9-4cee-8a1c-39208cbff7eb",
   "metadata": {},
   "outputs": [
    {
     "name": "stdout",
     "output_type": "stream",
     "text": [
      "[[ 0.51397846 -0.2794155   0.        ]\n",
      " [-0.57338187 -0.96611777 -0.95892427]\n",
      " [ 0.84147098 -0.98514626 -0.66363388]]\n"
     ]
    }
   ],
   "source": [
    "# trigonometric functions: to calculate trigonometric functions\n",
    "\n",
    "print(np.sin(a1))   # calculate sin of matrix items"
   ]
  },
  {
   "cell_type": "code",
   "execution_count": 113,
   "id": "db12aa00-252e-453c-949a-76c749a8aa76",
   "metadata": {},
   "outputs": [
    {
     "name": "stdout",
     "output_type": "stream",
     "text": [
      "[[114 120 126]\n",
      " [378 400 422]\n",
      " [642 680 718]]\n"
     ]
    }
   ],
   "source": [
    "# dot product: Dot product works only when the no. of columns of one matrix and no. of rows of second matrix are same\n",
    "# Example: dot product is applicable only if two matrices are in 3*4 and 4*3 form which results 3*3 matrix (means rows*rows) form.\n",
    "\n",
    "a2 = np.arange(12).reshape(3,4)\n",
    "a3 = np.arange(12,24).reshape(4,3)\n",
    "\n",
    "print(np.dot(a2,a3))   # will result the dot product"
   ]
  },
  {
   "cell_type": "code",
   "execution_count": 115,
   "id": "cda2cf4f-83eb-4887-a324-3b262471a314",
   "metadata": {},
   "outputs": [
    {
     "name": "stdout",
     "output_type": "stream",
     "text": [
      "[[4.35670883 1.79175947       -inf]\n",
      " [4.58496748 4.11087386 1.60943791]\n",
      " [0.         4.30406509 3.36729583]]\n",
      "[[7.49841700e+33 4.03428793e+02 1.00000000e+00]\n",
      " [3.63797095e+42 3.10429794e+26 1.48413159e+02]\n",
      " [2.71828183e+00 1.37338298e+32 3.93133430e+12]]\n"
     ]
    },
    {
     "name": "stderr",
     "output_type": "stream",
     "text": [
      "C:\\Users\\Anand S\\AppData\\Local\\Temp\\ipykernel_17508\\1426890169.py:3: RuntimeWarning: divide by zero encountered in log\n",
      "  print(np.log(a1))\n"
     ]
    }
   ],
   "source": [
    "# log and exponents\n",
    "\n",
    "print(np.log(a1))\n",
    "print(np.exp(a1))"
   ]
  },
  {
   "cell_type": "code",
   "execution_count": 117,
   "id": "0920f9ce-5b6d-4e75-b5d3-90ee6a08fc7d",
   "metadata": {},
   "outputs": [
    {
     "name": "stdout",
     "output_type": "stream",
     "text": [
      "[[87.1352834  79.78715371 27.64229116]\n",
      " [36.63313184 91.69866845 22.86311268]]\n",
      "[[14. 42. 15.]\n",
      " [45. 48. 93.]]\n",
      "[[68. 97. 96.]\n",
      " [39. 49. 32.]]\n",
      "[[54. 29. 11.]\n",
      " [28. 97.  1.]]\n"
     ]
    }
   ],
   "source": [
    "# round/floor/ceil\n",
    "# round():- nearest integer pe round off karta hai\n",
    "# floor:- peechey wale integer pe round off krta hai (example: 5.9 = 5, 8.4 = 8)\n",
    "# cell:- aagey wale integer pe round of krta hai (example: 5.1 = 6, 7.6 = 8)\n",
    "# result varies bcz we take random valueshere\n",
    "\n",
    "print(np.random.random((2,3)) * 100)    # generates random float values\n",
    "print(np.round(np.random.random((2,3)) * 100))   # but round() rounds off the float values to integer\n",
    "\n",
    "print(np.floor(np.random.random((2,3)) * 100))  # peechey wale integer pe round off krta hai\n",
    "\n",
    "print(np.ceil(np.random.random((2,3)) * 100))   # aagey wale integer pe round of krta hai"
   ]
  },
  {
   "cell_type": "markdown",
   "id": "0a0b84ee-67db-42e7-8ba1-39117de5dbe2",
   "metadata": {},
   "source": [
    "### Indexing and Slicing\n",
    "\n",
    "    Indexing: To find single item from the matrix we use indexing.\n",
    "    Slicing: To find multiple items from the matrix  we use slicing.\n",
    "\n",
    "#### Note*: Kitne bhi dimension ka array ho indexing se hum koi bhi item aur slicing se kitni bhi multiple items nikal skte hain "
   ]
  },
  {
   "cell_type": "code",
   "execution_count": 119,
   "id": "dd4bc875-b4fd-412c-b84c-345ba13dbe78",
   "metadata": {},
   "outputs": [
    {
     "name": "stdout",
     "output_type": "stream",
     "text": [
      "\n",
      " [0 1 2 3 4 5 6 7 8 9]\n",
      "\n",
      " [[ 0  1  2  3]\n",
      " [ 4  5  6  7]\n",
      " [ 8  9 10 11]]\n",
      "\n",
      " [[[0 1]\n",
      "  [2 3]]\n",
      "\n",
      " [[4 5]\n",
      "  [6 7]]]\n"
     ]
    }
   ],
   "source": [
    "# Indexing: To find a single item at a time from matrix\n",
    "\n",
    "a1 = np.arange(10)\n",
    "a2 = np.arange(12).reshape(3,4)\n",
    "a3 = np.arange(8).reshape(2,2,2)\n",
    "\n",
    "print('\\n',a1)\n",
    "print('\\n',a2)\n",
    "print('\\n',a3)"
   ]
  },
  {
   "cell_type": "code",
   "execution_count": 121,
   "id": "0c64dc40-e76c-4ef4-8fc4-1a93950d2acd",
   "metadata": {},
   "outputs": [
    {
     "data": {
      "text/plain": [
       "array([3, 4, 5, 6, 7])"
      ]
     },
     "execution_count": 121,
     "metadata": {},
     "output_type": "execute_result"
    }
   ],
   "source": [
    "# Indexing in 1D array\n",
    "\n",
    "#a1: to find any item in array we need to put the index number as we done in python. it is simple indexing\n",
    "\n",
    "a1[-1]\n",
    "a1[3:8]"
   ]
  },
  {
   "cell_type": "code",
   "execution_count": 123,
   "id": "cad7a9f0-8a99-482c-995a-2721b4a1e697",
   "metadata": {},
   "outputs": [
    {
     "name": "stdout",
     "output_type": "stream",
     "text": [
      "[[ 0  1  2  3]\n",
      " [ 4  5  6  7]\n",
      " [ 8  9 10 11]]\n",
      "6\n",
      "11\n",
      "10\n"
     ]
    }
   ],
   "source": [
    "# Indexing in 2D array\n",
    "\n",
    "\n",
    "#a2: to find the item in matrix we need to specify the row number and column number of that matrix\n",
    "print(a2)\n",
    "\n",
    "print(a2 [1,2] )  # to find 6 in matrix a2\n",
    "\n",
    "# to find 11 in matrix a2\n",
    "print(a2[2,3])\n",
    "\n",
    "# to find 10\n",
    "print(a2[2,2])"
   ]
  },
  {
   "cell_type": "code",
   "execution_count": 317,
   "id": "2c58c904-cfd5-4f7f-83a2-75471fa9a98a",
   "metadata": {},
   "outputs": [
    {
     "name": "stdout",
     "output_type": "stream",
     "text": [
      "[[[0 1]\n",
      "  [2 3]]\n",
      "\n",
      " [[4 5]\n",
      "  [6 7]]]\n",
      "5\n",
      "3\n",
      "6\n",
      "0\n"
     ]
    }
   ],
   "source": [
    "# Indexing in 3D array\n",
    "\n",
    "\n",
    "# a3: to find the item in 3D matrix (tensor). to find item in 3D tensor we need to put the matrix number and inside matrix's row and column number as we done in 2D matrix\n",
    "\n",
    "print(a3)\n",
    "\n",
    "# to find 5\n",
    "print(a3[1,0,1])\n",
    "\n",
    "# to find 3\n",
    "print(a3[0,1,1])\n",
    "\n",
    "#to find 6\n",
    "print(a3[1,1,0])\n",
    "\n",
    "# to find 0 \n",
    "print(a3[0,0,0])"
   ]
  },
  {
   "cell_type": "code",
   "execution_count": 127,
   "id": "ab203bd1-33f1-4016-ab3b-2841e894beb8",
   "metadata": {},
   "outputs": [
    {
     "name": "stdout",
     "output_type": "stream",
     "text": [
      "[2 3 4]\n",
      "[0 2 4]\n"
     ]
    }
   ],
   "source": [
    "# Slicing in 1D array\n",
    "\n",
    "# Slicing: to find the multiple items at the same time\n",
    "\n",
    "# a1: to find item in array\n",
    "# to find (2,3,4)\n",
    "print(a1[2:5])\n",
    "\n",
    "print(a1[0:6:2])  # stepping"
   ]
  },
  {
   "cell_type": "code",
   "execution_count": 155,
   "id": "f1a92df9-d16c-4592-bf66-90ebb5b992af",
   "metadata": {},
   "outputs": [
    {
     "name": "stdout",
     "output_type": "stream",
     "text": [
      "[[ 0  1  2  3]\n",
      " [ 4  5  6  7]\n",
      " [ 8  9 10 11]]\n",
      "\n",
      " [0 1 2 3]\n",
      "\n",
      " [ 2  6 10]\n",
      "\n",
      " [ 8  9 10 11]\n",
      "\n",
      " [ 3  7 11]\n"
     ]
    }
   ],
   "source": [
    "# Slicing in 2D array\n",
    "\n",
    "# a2: to find multiple items from a 2D matrix using slicing\n",
    "# syntax to find multiple items: [row,:column] or [row:,column]\n",
    "# Note*: jb bhi koi particular row chahiye to uske liye sare column chahiye hote hain and jb bhi koi particular column chahiye to uske liye sare rows chahiye hote hain\n",
    "\n",
    "print(a2)\n",
    "# to find first row\n",
    "print('\\n',a2[0,:])\n",
    "\n",
    "# to find 3rd column (2,6,10)\n",
    "print('\\n',a2[0:,2])\n",
    "\n",
    "# to find 3rd row (8,9,10,11)\n",
    "print('\\n',a2[2,:])\n",
    "\n",
    "# to find 4th column (3,7,11)\n",
    "print('\\n',a2[:,3])"
   ]
  },
  {
   "cell_type": "code",
   "execution_count": 315,
   "id": "ea28b75a-cbb1-44e2-81a6-5d1d598f85f7",
   "metadata": {},
   "outputs": [
    {
     "name": "stdout",
     "output_type": "stream",
     "text": [
      "[[ 0  1  2  3]\n",
      " [ 4  5  6  7]\n",
      " [ 8  9 10 11]]\n",
      "\n",
      " [[ 5  6]\n",
      " [ 9 10]]\n",
      "\n",
      " [[2 3]\n",
      " [6 7]]\n",
      "\n",
      " [[ 0  3]\n",
      " [ 8 11]]\n",
      "\n",
      " [[ 0  3]\n",
      " [ 8 11]]\n",
      "\n",
      " [[ 1  3]\n",
      " [ 9 11]]\n",
      "\n",
      " [[ 4  7]\n",
      " [ 8 11]]\n",
      "\n",
      " [[ 5  7]\n",
      " [ 9 11]]\n",
      "\n",
      " [[2 3]\n",
      " [6 7]]\n",
      "\n",
      " [[4 7]]\n",
      "\n",
      " [4 7]\n",
      "\n",
      " [[5 6 7]]\n"
     ]
    }
   ],
   "source": [
    "# Slicing in 2D array\n",
    "\n",
    "\n",
    "# interesting operations on selection from a matrix\n",
    "\n",
    "print(a2)\n",
    "\n",
    "# to find 5,6 and 9,10 from a2\n",
    "print('\\n',a2[1:,1:3])\n",
    "\n",
    "# to find 2,3 and 6,7\n",
    "print('\\n',a2[0:2,2:])    # a2[rows:rows,columns:columns]\n",
    "\n",
    "# to find 0,3 and 8,11 (all corner items)\n",
    "print('\\n',a2[::2,::3])   #OR below code works same\n",
    "print('\\n',a2[0:3:2,0:4:3])     # (pehla wala chlta hai rows ke liye and 2sra wala columns k liye)\n",
    "\n",
    "# to find 1,3 and 9,11 items\n",
    "print('\\n',a2[0::2,1::2])\n",
    "\n",
    "# to find 4,7 and 8,11\n",
    "print('\\n',a2[1:3,::3])\n",
    "\n",
    "# to find 5,7 and 9,11\n",
    "print('\\n',a2[1:,1::2])\n",
    "\n",
    "# to find 2,3 and 6,7\n",
    "print('\\n',a2[:2,2:])\n",
    "\n",
    "# to find 4,7\n",
    "print('\\n',a2[1::2,:4:3])   #OR\n",
    "print('\\n',a2[1,::3])   #will give the same result\n",
    "\n",
    "# to find 5,6,7\n",
    "print('\\n',a2[1:2,1::])\n",
    "\n",
    "\n",
    "\n",
    "#print('\\n',a2[1])=print('\\n',a2[1,])=print('\\n',a2[1,:])"
   ]
  },
  {
   "cell_type": "code",
   "execution_count": 386,
   "id": "1a9d6eea-20b9-449f-b40c-b6fe6d86ff74",
   "metadata": {},
   "outputs": [
    {
     "name": "stdout",
     "output_type": "stream",
     "text": [
      "[[[ 0  1  2]\n",
      "  [ 3  4  5]\n",
      "  [ 6  7  8]]\n",
      "\n",
      " [[ 9 10 11]\n",
      "  [12 13 14]\n",
      "  [15 16 17]]\n",
      "\n",
      " [[18 19 20]\n",
      "  [21 22 23]\n",
      "  [24 25 26]]]\n",
      "\n",
      " [[ 9 10 11]\n",
      " [12 13 14]\n",
      " [15 16 17]]\n",
      "\n",
      " [[[ 0  1  2]\n",
      "  [ 3  4  5]\n",
      "  [ 6  7  8]]\n",
      "\n",
      " [[18 19 20]\n",
      "  [21 22 23]\n",
      "  [24 25 26]]]\n",
      "\n",
      " [3 4 5]\n",
      "\n",
      " [10 13 16]\n",
      "\n",
      " [[22 23]\n",
      " [25 26]]\n",
      "\n",
      " [[ 0  2]\n",
      " [18 20]]\n"
     ]
    }
   ],
   "source": [
    "# Slicing in 3D array\n",
    "\n",
    "a3 = np.arange(27).reshape(3,3,3)\n",
    "print(a3)\n",
    "\n",
    "# beech wala array/matrix ke liye\n",
    "print('\\n',a3[1])\n",
    "\n",
    "# to find 1st and 3rd array\n",
    "print('\\n',a3[0:3:2])\n",
    "\n",
    "# to find 1st wale ka 2nd row (3,4,5)\n",
    "print('\\n',a3[0,1])\n",
    "\n",
    "# to find 2nd wale ka beech wala column (10,13,16)\n",
    "print('\\n',a3[1,:,1])\n",
    "\n",
    "# to find 3rd wale se (22,23 and 25,26)\n",
    "print('\\n',a3[2,1:,1:])\n",
    "\n",
    "# to find 1st wale se 0,2 and 3rd wale se 18,20\n",
    "print('\\n',a3[::2,0,::2])"
   ]
  },
  {
   "cell_type": "markdown",
   "id": "d55eb8be-03dd-4cde-a16e-58dbca9f1920",
   "metadata": {},
   "source": [
    "### Iterating on Numpy Array"
   ]
  },
  {
   "cell_type": "code",
   "execution_count": 407,
   "id": "13864970-f4f9-4c1a-b1ea-59bc538e6b9d",
   "metadata": {},
   "outputs": [
    {
     "name": "stdout",
     "output_type": "stream",
     "text": [
      "[0 1 2 3 4 5 6 7 8 9]\n",
      "0\n",
      "1\n",
      "2\n",
      "3\n",
      "4\n",
      "5\n",
      "6\n",
      "7\n",
      "8\n",
      "9\n"
     ]
    }
   ],
   "source": [
    "# iteration on 1D arraya\n",
    "\n",
    "print(a1)\n",
    "\n",
    "for i in a1:\n",
    "    print(i)   # prints each item one by one"
   ]
  },
  {
   "cell_type": "code",
   "execution_count": 403,
   "id": "73dac791-e4fa-49f9-9aec-0dbbca792c6e",
   "metadata": {},
   "outputs": [
    {
     "name": "stdout",
     "output_type": "stream",
     "text": [
      "[[ 0  1  2  3]\n",
      " [ 4  5  6  7]\n",
      " [ 8  9 10 11]]\n",
      "\n",
      " [0 1 2 3]\n",
      "\n",
      " [4 5 6 7]\n",
      "\n",
      " [ 8  9 10 11]\n"
     ]
    }
   ],
   "source": [
    "# iteration on 2D array\n",
    "\n",
    "print(a2)\n",
    "\n",
    "for i in a2:\n",
    "    print('\\n',i)  # prints each row of 2D matrix every time"
   ]
  },
  {
   "cell_type": "code",
   "execution_count": 401,
   "id": "b4ff3a47-6698-40cb-b475-46a4effb079c",
   "metadata": {},
   "outputs": [
    {
     "name": "stdout",
     "output_type": "stream",
     "text": [
      "[[[ 0  1  2]\n",
      "  [ 3  4  5]\n",
      "  [ 6  7  8]]\n",
      "\n",
      " [[ 9 10 11]\n",
      "  [12 13 14]\n",
      "  [15 16 17]]\n",
      "\n",
      " [[18 19 20]\n",
      "  [21 22 23]\n",
      "  [24 25 26]]]\n",
      "\n",
      " [[0 1 2]\n",
      " [3 4 5]\n",
      " [6 7 8]]\n",
      "\n",
      " [[ 9 10 11]\n",
      " [12 13 14]\n",
      " [15 16 17]]\n",
      "\n",
      " [[18 19 20]\n",
      " [21 22 23]\n",
      " [24 25 26]]\n"
     ]
    }
   ],
   "source": [
    "# iteration on 3D array\n",
    "\n",
    "print(a3)\n",
    "\n",
    "for i in a3:\n",
    "    print('\\n',i)    # prints 3D array/matrix each time"
   ]
  },
  {
   "cell_type": "code",
   "execution_count": 413,
   "id": "168e42d6-f7d6-4f4a-abc7-44d3587ebc3b",
   "metadata": {},
   "outputs": [
    {
     "name": "stdout",
     "output_type": "stream",
     "text": [
      "[[[ 0  1  2]\n",
      "  [ 3  4  5]\n",
      "  [ 6  7  8]]\n",
      "\n",
      " [[ 9 10 11]\n",
      "  [12 13 14]\n",
      "  [15 16 17]]\n",
      "\n",
      " [[18 19 20]\n",
      "  [21 22 23]\n",
      "  [24 25 26]]]\n",
      "0\n",
      "1\n",
      "2\n",
      "3\n",
      "4\n",
      "5\n",
      "6\n",
      "7\n",
      "8\n",
      "9\n",
      "10\n",
      "11\n",
      "12\n",
      "13\n",
      "14\n",
      "15\n",
      "16\n",
      "17\n",
      "18\n",
      "19\n",
      "20\n",
      "21\n",
      "22\n",
      "23\n",
      "24\n",
      "25\n",
      "26\n"
     ]
    }
   ],
   "source": [
    "# In case if you want to iterate array/matrix items one by one we use np.nditer() which breaks down the any multidimensional array into 1D array and prints each item of that multidimensional array/matrix\n",
    "\n",
    "print(a3)\n",
    "\n",
    "for i in np.nditer(a3):\n",
    "    print(i)"
   ]
  },
  {
   "cell_type": "markdown",
   "id": "ad1fcdea-a515-490f-8c50-5b0106c45234",
   "metadata": {},
   "source": [
    "### Reshaping\n",
    "    Here we discuss three main functions of reshaping:\n",
    "    1.) reshape()\n",
    "    2.) transpose()\n",
    "    3.) ravel()"
   ]
  },
  {
   "cell_type": "code",
   "execution_count": 425,
   "id": "de746cbb-70a5-4725-b5e9-af78db1922b9",
   "metadata": {},
   "outputs": [
    {
     "name": "stdout",
     "output_type": "stream",
     "text": [
      "[[ 0  1  2  3  4  5]\n",
      " [ 6  7  8  9 10 11]\n",
      " [12 13 14 15 16 17]]\n",
      "[[ 0  1]\n",
      " [ 2  3]\n",
      " [ 4  5]\n",
      " [ 6  7]\n",
      " [ 8  9]\n",
      " [10 11]\n",
      " [12 13]\n",
      " [14 15]\n",
      " [16 17]]\n"
     ]
    }
   ],
   "source": [
    "# reshape\n",
    "\n",
    "a = np.arange(18).reshape(3,6)   #(rows,columns)\n",
    "print(a)\n",
    "\n",
    "a = np.arange(18).reshape(9,2)\n",
    "print(a)"
   ]
  },
  {
   "cell_type": "code",
   "execution_count": 445,
   "id": "f5b2504f-2ca5-4d6a-9557-e75b9a012d10",
   "metadata": {},
   "outputs": [
    {
     "name": "stdout",
     "output_type": "stream",
     "text": [
      "[[ 0  1  2  3]\n",
      " [ 4  5  6  7]\n",
      " [ 8  9 10 11]]\n"
     ]
    },
    {
     "data": {
      "text/plain": [
       "array([[ 0,  4,  8],\n",
       "       [ 1,  5,  9],\n",
       "       [ 2,  6, 10],\n",
       "       [ 3,  7, 11]])"
      ]
     },
     "execution_count": 445,
     "metadata": {},
     "output_type": "execute_result"
    }
   ],
   "source": [
    "# transpose: transpose a matrix (row -> column and column -> row\n",
    "# (both a2.T and np.transpose(a2) will work)\n",
    "print(a2)\n",
    "\n",
    "a2.T\n",
    "#OR\n",
    "np.transpose(a2)"
   ]
  },
  {
   "cell_type": "code",
   "execution_count": 453,
   "id": "a51e2d04-cd2d-468e-b8b9-e6ffe2669d2a",
   "metadata": {},
   "outputs": [
    {
     "name": "stdout",
     "output_type": "stream",
     "text": [
      "[[ 0  1  2  3]\n",
      " [ 4  5  6  7]\n",
      " [ 8  9 10 11]]\n",
      "[ 0  1  2  3  4  5  6  7  8  9 10 11]\n",
      "[[ 0  1]\n",
      " [ 2  3]\n",
      " [ 4  5]\n",
      " [ 6  7]\n",
      " [ 8  9]\n",
      " [10 11]\n",
      " [12 13]\n",
      " [14 15]\n",
      " [16 17]]\n"
     ]
    },
    {
     "data": {
      "text/plain": [
       "array([ 0,  1,  2,  3,  4,  5,  6,  7,  8,  9, 10, 11, 12, 13, 14, 15, 16,\n",
       "       17])"
      ]
     },
     "execution_count": 453,
     "metadata": {},
     "output_type": "execute_result"
    }
   ],
   "source": [
    "# ravel: convert any dimensional array to one dimensional array\n",
    "print(a2)\n",
    "\n",
    "print(np.ravel(a2))\n",
    "\n",
    "print(a)\n",
    "np.ravel(a)"
   ]
  },
  {
   "cell_type": "markdown",
   "id": "835b8335-f048-400e-99c9-891bd77d86f6",
   "metadata": {},
   "source": [
    "### Note*: Koi bhi function array mein changes nhi krta blki nya array bnata hai. As shown in following code"
   ]
  },
  {
   "cell_type": "code",
   "execution_count": 460,
   "id": "8e95140f-cfd8-45bb-98c3-fffd3337c3a2",
   "metadata": {},
   "outputs": [
    {
     "name": "stdout",
     "output_type": "stream",
     "text": [
      "[[ 0  1]\n",
      " [ 2  3]\n",
      " [ 4  5]\n",
      " [ 6  7]\n",
      " [ 8  9]\n",
      " [10 11]\n",
      " [12 13]\n",
      " [14 15]\n",
      " [16 17]]\n"
     ]
    }
   ],
   "source": [
    "# a remains in 9*2 form even after apply numpy function to it.\n",
    "\n",
    "print(a)"
   ]
  },
  {
   "cell_type": "markdown",
   "id": "6a950e1b-98cd-4471-ac10-1ab8f138e62f",
   "metadata": {},
   "source": [
    "### Stacking: means adding two or more than two arrays, we can do this horizontally or vertically\n",
    "\n",
    "##### Use of stacking: jb bhi same data multiple sources se aa rha ho like database, api, web scrapping tab hum stacking ka use krte hain similar data ka analysis krne k liye (vertially and horizontally),it is upto the requirement of the project. \n",
    "#### Stacking is basically multiple data sources ko jodne ka tarika hai. But stacking ka ek hi requirement hai ki data ka shape same hona chahiye."
   ]
  },
  {
   "cell_type": "code",
   "execution_count": 499,
   "id": "5a074e49-2903-407d-b78a-379a4258b0dd",
   "metadata": {},
   "outputs": [
    {
     "name": "stdout",
     "output_type": "stream",
     "text": [
      "[[ 0  1  2  3]\n",
      " [ 4  5  6  7]\n",
      " [ 8  9 10 11]] \n",
      "\n",
      " [[ 0  1  2  3]\n",
      " [ 4  5  6  7]\n",
      " [ 8  9 10 11]]\n"
     ]
    }
   ],
   "source": [
    "# stacking\n",
    "\n",
    "a4 = np.arange(12).reshape(3,4)\n",
    "a5 = np.arange(12).reshape(3,4)\n",
    "\n",
    "print(a4,'\\n\\n',a5)\n"
   ]
  },
  {
   "cell_type": "code",
   "execution_count": 501,
   "id": "82222130-bfd2-47e0-9a6b-b93254446064",
   "metadata": {},
   "outputs": [
    {
     "name": "stdout",
     "output_type": "stream",
     "text": [
      "[[ 0  1  2  3  0  1  2  3]\n",
      " [ 4  5  6  7  4  5  6  7]\n",
      " [ 8  9 10 11  8  9 10 11]]\n",
      "\n",
      " [[ 0  1  2  3  0  1  2  3  0  1  2  3  0  1  2  3]\n",
      " [ 4  5  6  7  4  5  6  7  4  5  6  7  4  5  6  7]\n",
      " [ 8  9 10 11  8  9 10 11  8  9 10 11  8  9 10 11]]\n"
     ]
    }
   ],
   "source": [
    "# horizontal stacking: add any number of arrays horizontally\n",
    "\n",
    "print(np.hstack((a4,a5)))\n",
    "print('\\n',np.hstack((a4,a5,a4,a5)))    #can add any number of arrays"
   ]
  },
  {
   "cell_type": "code",
   "execution_count": 503,
   "id": "a33f847e-743c-41f9-87a6-cfe94f5f1836",
   "metadata": {},
   "outputs": [
    {
     "name": "stdout",
     "output_type": "stream",
     "text": [
      "[[ 0  1  2  3]\n",
      " [ 4  5  6  7]\n",
      " [ 8  9 10 11]\n",
      " [ 0  1  2  3]\n",
      " [ 4  5  6  7]\n",
      " [ 8  9 10 11]]\n",
      "\n",
      " [[ 0  1  2  3]\n",
      " [ 4  5  6  7]\n",
      " [ 8  9 10 11]\n",
      " [ 0  1  2  3]\n",
      " [ 4  5  6  7]\n",
      " [ 8  9 10 11]\n",
      " [ 0  1  2  3]\n",
      " [ 4  5  6  7]\n",
      " [ 8  9 10 11]\n",
      " [ 0  1  2  3]\n",
      " [ 4  5  6  7]\n",
      " [ 8  9 10 11]\n",
      " [ 0  1  2  3]\n",
      " [ 4  5  6  7]\n",
      " [ 8  9 10 11]]\n"
     ]
    }
   ],
   "source": [
    "# vertical stacking: add any number of arrays vertically\n",
    "\n",
    "print(np.vstack((a4,a5)))\n",
    "print('\\n',np.vstack((a5,a4,a5,a4,a5)))"
   ]
  },
  {
   "cell_type": "markdown",
   "id": "659d3a26-4d16-4b4d-a116-e1f50fcbebc0",
   "metadata": {},
   "source": [
    "### Splitting: It is just the opposite of stacking. We split an array into two arrays.\n",
    "### Requirement of splitting: jb bhi hum ek data source se multiple cheezen bnate hain. Example: College students ka data branch wise split krna ho to."
   ]
  },
  {
   "cell_type": "code",
   "execution_count": 522,
   "id": "6a0caad3-7c92-4b9d-b8be-4328f81c20e9",
   "metadata": {},
   "outputs": [
    {
     "name": "stdout",
     "output_type": "stream",
     "text": [
      "[[ 0  1  2  3]\n",
      " [ 4  5  6  7]\n",
      " [ 8  9 10 11]]\n",
      "\n",
      " [array([[0, 1],\n",
      "       [4, 5],\n",
      "       [8, 9]]), array([[ 2,  3],\n",
      "       [ 6,  7],\n",
      "       [10, 11]])]\n"
     ]
    }
   ],
   "source": [
    "# horizontal splitting: split an array into horzontal format\n",
    "\n",
    "print(a4)\n",
    "\n",
    "print('\\n',np.hsplit(a4,2))  # will split in 2 or 4 equal parts"
   ]
  },
  {
   "cell_type": "code",
   "execution_count": 519,
   "id": "9cc94d77-87cb-4ab7-98af-fb2e2976ce4f",
   "metadata": {},
   "outputs": [
    {
     "name": "stdout",
     "output_type": "stream",
     "text": [
      "[[ 0  1  2  3]\n",
      " [ 4  5  6  7]\n",
      " [ 8  9 10 11]]\n",
      "\n",
      " [array([[0, 1, 2, 3]]), array([[4, 5, 6, 7]]), array([[ 8,  9, 10, 11]])]\n"
     ]
    }
   ],
   "source": [
    "# vertical splitting: split an array into vertical format\n",
    "\n",
    "print(a4)\n",
    "print('\\n', np.vsplit(a4,3))   # will split in 3 equal parts."
   ]
  },
  {
   "cell_type": "code",
   "execution_count": null,
   "id": "c080598b-5956-4597-b437-30e0be88caf3",
   "metadata": {},
   "outputs": [],
   "source": []
  }
 ],
 "metadata": {
  "kernelspec": {
   "display_name": "Python 3 (ipykernel)",
   "language": "python",
   "name": "python3"
  },
  "language_info": {
   "codemirror_mode": {
    "name": "ipython",
    "version": 3
   },
   "file_extension": ".py",
   "mimetype": "text/x-python",
   "name": "python",
   "nbconvert_exporter": "python",
   "pygments_lexer": "ipython3",
   "version": "3.12.4"
  }
 },
 "nbformat": 4,
 "nbformat_minor": 5
}
