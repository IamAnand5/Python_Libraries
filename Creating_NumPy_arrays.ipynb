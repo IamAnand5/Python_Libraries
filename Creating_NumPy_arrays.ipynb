{
 "cells": [
  {
   "cell_type": "markdown",
   "id": "1ec8fdc2",
   "metadata": {},
   "source": [
    "#### What is NumPy?\n",
    "\n",
    "  NumPy is the fundamental package for scientific computing in Python. It is a Python library that provides a multidimensional array object, various derived objects (such as masked array and matrices).\n",
    "\n",
    "  At the core of the NumPy package, is the N-D array object. This encapsulates n-dimensional arrays of homogeneous data types.\n",
    "\n",
    "#### NumPy v/s Python Sequences\n",
    "\n",
    "1.) NumPy array have a fixed size at creation, unlike Python lists (which can grow dynamically). Changing the size of an nd-array will create a new array and delete the original.\n",
    "\n",
    "2.) The elements in a NumPy array are all required to be of the same data type, and thus will be the same size in memory.\n",
    "\n",
    "3.) NumPy arrays facilitate advanced mathematical and other types of operations on large numers of data.\n",
    "\n",
    "4.) Various other libraries like Pandas, SciKit, MatplotLib etc. used core concept of NumPy array oject."
   ]
  },
  {
   "cell_type": "markdown",
   "id": "60f8e779",
   "metadata": {},
   "source": [
    "### Creating NumPy Arrays\n",
    "\n",
    "Following functions are used to create different types of arrays.\n",
    "\n",
    "1. np.array and np.dtype\n",
    "2. np.arange and np.reshape\n",
    "3. np.ones, np.zeros and np.random\n",
    "4. np.linspace\n",
    "5. np.identity\n"
   ]
  },
  {
   "cell_type": "code",
   "execution_count": 3,
   "id": "f60513b7",
   "metadata": {},
   "outputs": [
    {
     "name": "stdout",
     "output_type": "stream",
     "text": [
      "[1 2 3]\n",
      "<class 'numpy.ndarray'>\n"
     ]
    }
   ],
   "source": [
    "# np.array: need to import numpy as np short form\n",
    "\n",
    "import numpy as np\n",
    "\n",
    "a = np.array([1,2,3])   #like list in python. We can called it as vector or one dimensional array\n",
    "print(a)\n",
    "print(type(a))"
   ]
  },
  {
   "cell_type": "code",
   "execution_count": 5,
   "id": "e7a5304c",
   "metadata": {},
   "outputs": [
    {
     "name": "stdout",
     "output_type": "stream",
     "text": [
      "[[1 2 3]\n",
      " [4 5 6]]\n"
     ]
    }
   ],
   "source": [
    "# 2D: can create 2D array called as matrix\n",
    "b = np.array([[1,2,3],[4,5,6]])  #can called it as matrix\n",
    "print(b)"
   ]
  },
  {
   "cell_type": "code",
   "execution_count": 6,
   "id": "73356de8",
   "metadata": {},
   "outputs": [
    {
     "name": "stdout",
     "output_type": "stream",
     "text": [
      "[[[1 2 3]\n",
      "  [4 5 6]]\n",
      "\n",
      " [[4 3 1]\n",
      "  [9 6 5]]]\n"
     ]
    }
   ],
   "source": [
    "# 3D array: used to create 3D array called tensors\n",
    "\n",
    "c = np.array([[[1,2,3],[4,5,6]],[[4,3,1],[9,6,5]]])\n",
    "print(c)   #can call it as tensor\n"
   ]
  },
  {
   "cell_type": "code",
   "execution_count": 10,
   "id": "8c1f6c9d",
   "metadata": {},
   "outputs": [
    {
     "name": "stdout",
     "output_type": "stream",
     "text": [
      "[2. 3. 4.]\n",
      "[False  True  True False]\n",
      "[5.+0.j 3.+0.j 6.+0.j 9.+0.j]\n"
     ]
    }
   ],
   "source": [
    "# dtype: can create NumPy array of own choice using dtype.\n",
    "\n",
    "d = np.array([2,3,4],dtype=float)\n",
    "print(d)\n",
    "\n",
    "e = np.array([0,1,4,0], dtype=bool)\n",
    "print(e)  #consider 0 as false and treat other any non zero number as 1\n",
    "\n",
    "f = np.array([5,3,6,9],dtype = complex)\n",
    "print(f)"
   ]
  },
  {
   "cell_type": "code",
   "execution_count": 12,
   "id": "b001f52a",
   "metadata": {},
   "outputs": [
    {
     "name": "stdout",
     "output_type": "stream",
     "text": [
      "[1 3 5 7 9]\n"
     ]
    }
   ],
   "source": [
    "# arange function: to find the range of given parameters\n",
    "\n",
    "g = np.arange(1,11,2)\n",
    "print(g)"
   ]
  },
  {
   "cell_type": "code",
   "execution_count": 16,
   "id": "936a049f",
   "metadata": {},
   "outputs": [
    {
     "name": "stdout",
     "output_type": "stream",
     "text": [
      "[[ 1  2  3  4]\n",
      " [ 5  6  7  8]\n",
      " [ 9 10 11 12]]\n",
      "[[ 1  2]\n",
      " [ 3  4]\n",
      " [ 5  6]\n",
      " [ 7  8]\n",
      " [ 9 10]\n",
      " [11 12]]\n"
     ]
    },
    {
     "ename": "ValueError",
     "evalue": "cannot reshape array of size 12 into shape (5,4)",
     "output_type": "error",
     "traceback": [
      "\u001b[1;31m---------------------------------------------------------------------------\u001b[0m",
      "\u001b[1;31mValueError\u001b[0m                                Traceback (most recent call last)",
      "Cell \u001b[1;32mIn[16], line 9\u001b[0m\n\u001b[0;32m      6\u001b[0m h1 \u001b[38;5;241m=\u001b[39m np\u001b[38;5;241m.\u001b[39marange(\u001b[38;5;241m1\u001b[39m,\u001b[38;5;241m13\u001b[39m)\u001b[38;5;241m.\u001b[39mreshape(\u001b[38;5;241m6\u001b[39m,\u001b[38;5;241m2\u001b[39m)  \u001b[38;5;66;03m#can change the order to 2*6\u001b[39;00m\n\u001b[0;32m      7\u001b[0m \u001b[38;5;28mprint\u001b[39m(h1)\n\u001b[1;32m----> 9\u001b[0m h2 \u001b[38;5;241m=\u001b[39m np\u001b[38;5;241m.\u001b[39marange(\u001b[38;5;241m1\u001b[39m,\u001b[38;5;241m13\u001b[39m)\u001b[38;5;241m.\u001b[39mreshape(\u001b[38;5;241m5\u001b[39m,\u001b[38;5;241m4\u001b[39m)  \u001b[38;5;66;03m#can change the order to 4*3\u001b[39;00m\n\u001b[0;32m     10\u001b[0m \u001b[38;5;28mprint\u001b[39m(h2)\n",
      "\u001b[1;31mValueError\u001b[0m: cannot reshape array of size 12 into shape (5,4)"
     ]
    }
   ],
   "source": [
    "# reshape: convert the shape of array. But condition is that the product of two numbers equal to the given range of array.\n",
    "\n",
    "h = np.arange(1,13).reshape(3,4)  #can change the order to 4*3\n",
    "print(h)\n",
    "\n",
    "h1 = np.arange(1,13).reshape(6,2)  #can change the order to 2*6\n",
    "print(h1)\n",
    "\n",
    "h2 = np.arange(1,13).reshape(5,4)  #can change the order to 4*3\n",
    "print(h2)"
   ]
  },
  {
   "cell_type": "code",
   "execution_count": 18,
   "id": "bc66894d",
   "metadata": {},
   "outputs": [
    {
     "name": "stdout",
     "output_type": "stream",
     "text": [
      "[[1. 1. 1. 1.]\n",
      " [1. 1. 1. 1.]\n",
      " [1. 1. 1. 1.]]\n",
      "[[0. 0. 0. 0.]\n",
      " [0. 0. 0. 0.]\n",
      " [0. 0. 0. 0.]]\n"
     ]
    }
   ],
   "source": [
    "# np.ones and np.zeros: can create numpy array whose all elements are one or zero at the same time\n",
    "# need to provide tuple (3,4) here\n",
    "# used where you need to initialize something immediately\n",
    "\n",
    "i = np.ones((3,4))\n",
    "print(i)\n",
    "\n",
    "i1 = np.zeros((3,4))\n",
    "print(i1)"
   ]
  },
  {
   "cell_type": "code",
   "execution_count": 23,
   "id": "9175efd2",
   "metadata": {},
   "outputs": [
    {
     "name": "stdout",
     "output_type": "stream",
     "text": [
      "[[0.19302721 0.94690521 0.00774238 0.99345557 0.2891663  0.01267164\n",
      "  0.32661505 0.23650489 0.74014843]]\n"
     ]
    }
   ],
   "source": [
    "# np.random: generates random numbers between the given range.\n",
    "\n",
    "j = np.random.random((1,9))\n",
    "print(j)"
   ]
  },
  {
   "cell_type": "code",
   "execution_count": 25,
   "id": "e851809e",
   "metadata": {},
   "outputs": [
    {
     "name": "stdout",
     "output_type": "stream",
     "text": [
      "[-10.          -7.77777778  -5.55555556  -3.33333333  -1.11111111\n",
      "   1.11111111   3.33333333   5.55555556   7.77777778  10.        ]\n"
     ]
    }
   ],
   "source": [
    "# np.linspace: generate linear items in the given range with equal distances\n",
    "\n",
    "k = np.linspace(-10,10,10)\n",
    "print(k)\n",
    "\n",
    "# where -10 defines the lower range; 10 defines the upper range and 10 defines the number of items to generate"
   ]
  },
  {
   "cell_type": "code",
   "execution_count": 26,
   "id": "af12344f",
   "metadata": {},
   "outputs": [
    {
     "name": "stdout",
     "output_type": "stream",
     "text": [
      "[[1. 0. 0.]\n",
      " [0. 1. 0.]\n",
      " [0. 0. 1.]]\n"
     ]
    }
   ],
   "source": [
    "# np.identity: used to create identity matrix(whose diagonal items are 1)\n",
    "\n",
    "l = np.identity(3)\n",
    "print(l)"
   ]
  },
  {
   "cell_type": "code",
   "execution_count": null,
   "id": "f88d008e",
   "metadata": {},
   "outputs": [],
   "source": []
  }
 ],
 "metadata": {
  "kernelspec": {
   "display_name": "Python 3 (ipykernel)",
   "language": "python",
   "name": "python3"
  },
  "language_info": {
   "codemirror_mode": {
    "name": "ipython",
    "version": 3
   },
   "file_extension": ".py",
   "mimetype": "text/x-python",
   "name": "python",
   "nbconvert_exporter": "python",
   "pygments_lexer": "ipython3",
   "version": "3.11.5"
  }
 },
 "nbformat": 4,
 "nbformat_minor": 5
}
