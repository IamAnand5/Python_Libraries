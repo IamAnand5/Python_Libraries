{
 "cells": [
  {
   "cell_type": "markdown",
   "id": "fa6b0f60-078b-4a92-874b-a4aa8fab537e",
   "metadata": {},
   "source": [
    "### Numpy array vs Python lists"
   ]
  },
  {
   "cell_type": "code",
   "execution_count": 17,
   "id": "54590303-cd13-4375-9603-cc4891d84755",
   "metadata": {},
   "outputs": [
    {
     "name": "stdout",
     "output_type": "stream",
     "text": [
      "1.7599074840545654\n"
     ]
    }
   ],
   "source": [
    "# Measure of speed of python ka list vs numpy ka array\n",
    "# list\n",
    "\n",
    "a = [i for i in range(10000000)]\n",
    "b = [i for i in range (10000000,20000000)]\n",
    "\n",
    "c = [ ]\n",
    "\n",
    "import time\n",
    "start = time.time()\n",
    "\n",
    "for i in range (len(a)):\n",
    "    c.append(a[i] + b[i])\n",
    "\n",
    "print(time.time() - start)"
   ]
  },
  {
   "cell_type": "code",
   "execution_count": 18,
   "id": "60de7e8a-4916-4545-a566-615500570871",
   "metadata": {},
   "outputs": [
    {
     "name": "stdout",
     "output_type": "stream",
     "text": [
      "0.11285591125488281\n"
     ]
    }
   ],
   "source": [
    "# numpy\n",
    "\n",
    "import numpy as np\n",
    "\n",
    "a = np.arange(10000000)\n",
    "b = np.arange(10000000,20000000)\n",
    "\n",
    "start = time.time()\n",
    "\n",
    "c = a+b\n",
    "\n",
    "print(time.time() - start)"
   ]
  },
  {
   "cell_type": "code",
   "execution_count": 19,
   "id": "ea20afe4-432d-4f2d-9400-0ceecb9fde0a",
   "metadata": {},
   "outputs": [
    {
     "data": {
      "text/plain": [
       "233.0"
      ]
     },
     "execution_count": 19,
     "metadata": {},
     "output_type": "execute_result"
    }
   ],
   "source": [
    "# now let's see the difference in time between list of python and array of numpy\n",
    "\n",
    "4.66/0.02"
   ]
  },
  {
   "cell_type": "markdown",
   "id": "81de06f2-af7a-4e88-b39e-5eea4bc26f1b",
   "metadata": {},
   "source": [
    "### Reason:\n",
    "    numpy is faster than pythonn list because it uses the c type ka array which is static array jiska size fix rhta hai. Doosra  it is not a referential array means hm direct item ko memory mein store krte hain naki uska address, jbki list mein aisa nhi hota whan pe do problems hain ki uska size doule hota jata hai according to requirements and 2nd ki it is a referential array means aap direct item store nhi krte ho, uska address store krte hain. \n",
    "    Issi karan se numpy fast hai."
   ]
  },
  {
   "cell_type": "code",
   "execution_count": 21,
   "id": "5c15fdaa-a743-4b07-8227-f4de0e89b7c4",
   "metadata": {},
   "outputs": [
    {
     "data": {
      "text/plain": [
       "89095160"
      ]
     },
     "execution_count": 21,
     "metadata": {},
     "output_type": "execute_result"
    }
   ],
   "source": [
    "# memory\n",
    "#list\n",
    "a = [i for i in range(10000000)]\n",
    "\n",
    "import sys\n",
    "    \n",
    "sys.getsizeof(a)"
   ]
  },
  {
   "cell_type": "code",
   "execution_count": 26,
   "id": "144a61e4-2460-4715-aa51-a4fdec5fd198",
   "metadata": {},
   "outputs": [
    {
     "data": {
      "text/plain": [
       "40000112"
      ]
     },
     "execution_count": 26,
     "metadata": {},
     "output_type": "execute_result"
    }
   ],
   "source": [
    "# numpy\n",
    "\n",
    "a = np.arange(10000000)\n",
    "sys.getsizeof(a)"
   ]
  },
  {
   "cell_type": "markdown",
   "id": "32fa10d4-2a6e-4430-95c7-ed9c19862d45",
   "metadata": {},
   "source": [
    "### conclusion:\n",
    " If we see above code we clearly conclude that the numpy ka array kam memory occupy kr rha hai as compared to python ka list. And if we want to reduce the size of above numpy array we can also do that only in case of numpy ka array. Python iss type ki facility nhi provide krta hai. To reduce the size of numpy array see the below code:"
   ]
  },
  {
   "cell_type": "code",
   "execution_count": 39,
   "id": "b0a5e091-9c85-4a53-8e91-3e470d7cae49",
   "metadata": {},
   "outputs": [
    {
     "data": {
      "text/plain": [
       "10000112"
      ]
     },
     "execution_count": 39,
     "metadata": {},
     "output_type": "execute_result"
    }
   ],
   "source": [
    "# to reduce the size of numpy array\n",
    "\n",
    "a = np.arange(10000000, dtype = np.int16)\n",
    "sys.getsizeof(a)\n",
    "\n",
    "a = np.arange(10000000, dtype = np.int8)\n",
    "sys.getsizeof(a)"
   ]
  },
  {
   "cell_type": "markdown",
   "id": "19492acd-fd6f-4b44-b8d6-40cfbba51bdd",
   "metadata": {},
   "source": [
    "### Convenience: \n",
    "#### If we see above codes we clearly observe that the convenience in writing the code for a dataset is much more easy in numpy as compared to python."
   ]
  },
  {
   "cell_type": "markdown",
   "id": "66701ad0-a4d2-4c5f-90c9-2e739252a1c6",
   "metadata": {},
   "source": [
    "### Advanced Indexing"
   ]
  },
  {
   "cell_type": "code",
   "execution_count": 59,
   "id": "2bc48510-18b7-47f7-9e91-c30ff268fbb3",
   "metadata": {},
   "outputs": [
    {
     "name": "stdout",
     "output_type": "stream",
     "text": [
      "[[ 0  1  2]\n",
      " [ 3  4  5]\n",
      " [ 6  7  8]\n",
      " [ 9 10 11]]\n",
      "7\n",
      "[[ 7  8]\n",
      " [10 11]]\n"
     ]
    }
   ],
   "source": [
    "# normal indexing\n",
    "\n",
    "a = np.arange(12).reshape(4,3)\n",
    "print(a)\n",
    "\n",
    "#indexing\n",
    "print(a[2,1])\n",
    "\n",
    "#slicing\n",
    "print(a[2:,1:])"
   ]
  },
  {
   "cell_type": "code",
   "execution_count": 81,
   "id": "637887cc-41d6-476c-83ea-78dcb6a4db00",
   "metadata": {},
   "outputs": [
    {
     "name": "stdout",
     "output_type": "stream",
     "text": [
      "[[ 0  1  2  3]\n",
      " [ 4  5  6  7]\n",
      " [ 8  9 10 11]\n",
      " [12 13 14 15]\n",
      " [16 17 18 19]\n",
      " [20 21 22 23]]\n",
      "\n",
      " [[ 0  1  2  3]\n",
      " [ 8  9 10 11]\n",
      " [12 13 14 15]\n",
      " [20 21 22 23]]\n"
     ]
    },
    {
     "data": {
      "text/plain": [
       "array([[ 0,  1,  2,  3],\n",
       "       [12, 13, 14, 15],\n",
       "       [16, 17, 18, 19],\n",
       "       [20, 21, 22, 23]])"
      ]
     },
     "execution_count": 81,
     "metadata": {},
     "output_type": "execute_result"
    }
   ],
   "source": [
    "# fancy indexing\n",
    "a = np.arange(24).reshape(6,4)\n",
    "print(a)\n",
    "\n",
    "# if we want to print 1st,3rd,4th,6th row\n",
    "print('\\n',a[[0,2,3,5]])  # will display the 0th,2nd,3rd and 5th index row\n",
    "a[[0,3,4,5]]   #will display the 0th,3rd,4th and 5th indexed row"
   ]
  },
  {
   "cell_type": "code",
   "execution_count": 87,
   "id": "c8b40895-7b68-4ae1-ad31-ca633d9a0b10",
   "metadata": {},
   "outputs": [
    {
     "name": "stdout",
     "output_type": "stream",
     "text": [
      "\n",
      " [[ 0  2  3]\n",
      " [ 4  6  7]\n",
      " [ 8 10 11]\n",
      " [12 14 15]\n",
      " [16 18 19]\n",
      " [20 22 23]]\n"
     ]
    }
   ],
   "source": [
    "print('\\n',a[:,[0,2,3]])    # will display the 0th,2nd and 3rd indexed column"
   ]
  },
  {
   "cell_type": "markdown",
   "id": "dcca4257-92a2-4612-915b-fd6bd011dcf2",
   "metadata": {},
   "source": [
    "### Boolean Indexing: Very import trick\n",
    "##### used to pick array items on the basis of condition. Example: pick the even/odd items from the given array. another example is to pick the numbers from array which are divisible by 5. So here we need to implement own logic. Hence we need the Boolean Indexing."
   ]
  },
  {
   "cell_type": "code",
   "execution_count": 99,
   "id": "4a3a5fb6-df64-4c4f-ab11-5175ea51f1eb",
   "metadata": {},
   "outputs": [
    {
     "name": "stdout",
     "output_type": "stream",
     "text": [
      "[[31 26 53 75]\n",
      " [79 83 27 19]\n",
      " [82 69 31 83]\n",
      " [56 60 46 64]\n",
      " [48 95 22 50]\n",
      " [44  5 82 74]]\n"
     ]
    }
   ],
   "source": [
    "# Boolean indexing\n",
    "\n",
    "# below code will generate array of random numbers between the range of 1 to 100 with 24 random numbers with shape 6*4 2D matrix/array\n",
    "a = np.random.randint(1,100,24).reshape(6,4)\n",
    "print(a)"
   ]
  },
  {
   "cell_type": "code",
   "execution_count": 111,
   "id": "56b7684b-b027-4052-b82d-e2b2eab4e016",
   "metadata": {},
   "outputs": [
    {
     "name": "stdout",
     "output_type": "stream",
     "text": [
      "[[False False  True  True]\n",
      " [ True  True False False]\n",
      " [ True  True False  True]\n",
      " [ True  True False  True]\n",
      " [False  True False False]\n",
      " [False False  True  True]]\n",
      "\n",
      " [53 75 79 83 82 69 83 56 60 64 95 82 74]\n"
     ]
    }
   ],
   "source": [
    "# find all numbers greater than 50\n",
    "\n",
    "print(a > 50)    # will produce the result in boolean (True or False) for given logic\n",
    "\n",
    "# we will use the resultant array as boolean mask, by using which we can do filtering\n",
    "# we will put this boolean array on original array and uss se kya hoga ki jhan jhan pe true hoga whan pe hi items show honge baki remove ho jayenge\n",
    "\n",
    "print('\\n',a[a>50])   # filter the data on the base of given condition as shown below"
   ]
  },
  {
   "cell_type": "code",
   "execution_count": 119,
   "id": "405e1d1c-cf34-4b07-835f-08bd4b2905a2",
   "metadata": {},
   "outputs": [
    {
     "name": "stdout",
     "output_type": "stream",
     "text": [
      "[[False  True False False]\n",
      " [False False False False]\n",
      " [ True False False False]\n",
      " [ True  True  True  True]\n",
      " [ True False  True  True]\n",
      " [ True False  True  True]]\n",
      "\n",
      " [26 82 56 60 46 64 48 22 50 44 82 74]\n"
     ]
    }
   ],
   "source": [
    "# find all even numbers \n",
    "\n",
    "print(a%2 == 0)\n",
    "print('\\n',a[a%2 == 0])"
   ]
  },
  {
   "cell_type": "code",
   "execution_count": 127,
   "id": "fdd6e217-5cd2-4716-b78d-27cb774a3928",
   "metadata": {},
   "outputs": [
    {
     "name": "stdout",
     "output_type": "stream",
     "text": [
      "[[False False False False]\n",
      " [False False False False]\n",
      " [ True False False False]\n",
      " [ True  True False  True]\n",
      " [False False False False]\n",
      " [False False  True  True]]\n",
      "\n",
      " [82 56 60 64 82 74]\n"
     ]
    }
   ],
   "source": [
    "# find all numbers greater than 50 and are even \n",
    "\n",
    "print((a%2==0) & (a>50))    # here 'and' operator will not work bcz we are working with boolean values i.e.why we use bitwise and '&'\n",
    "\n",
    "print('\\n',a[(a%2==0) & (a>50)])   # a[()] is called masking"
   ]
  },
  {
   "cell_type": "code",
   "execution_count": 143,
   "id": "89c8c0cb-1807-40b9-8566-17713b69781f",
   "metadata": {},
   "outputs": [
    {
     "name": "stdout",
     "output_type": "stream",
     "text": [
      "[[ True  True  True  True]\n",
      " [ True  True  True  True]\n",
      " [ True  True  True  True]\n",
      " [False  True  True  True]\n",
      " [ True  True  True  True]\n",
      " [ True  True  True  True]]\n",
      "\n",
      " [31 26 53 75 79 83 27 19 82 69 31 83 60 46 64 48 95 22 50 44  5 82 74]\n"
     ]
    }
   ],
   "source": [
    "# find the numbers which are not divisible by 7\n",
    "\n",
    "print(~(a%7 == 0))\n",
    "\n",
    "print('\\n',a[~(a%7 == 0)])"
   ]
  },
  {
   "cell_type": "markdown",
   "id": "1115a729-ad8c-4168-b91e-8899adc727d1",
   "metadata": {},
   "source": [
    "### Broadcasting(super imp topic)\n",
    " The term broadcasting describes how NumPy treates arrays with different shapes during arithmetic operations.\n",
    " \n",
    " The smaller array is \"broadcast\" across the larger array so that they have compatible shapes.\n"
   ]
  },
  {
   "cell_type": "markdown",
   "id": "b9b49073-1170-43a4-87fd-5200bca44f42",
   "metadata": {},
   "source": [
    "### Broadcasting Rules\n",
    "#### 1. Make the two arrays have the same number of dimensions.\n",
    "        If the numbers of dimensions of the two arrays are different, add new dimensins with size 1 to the head of the array  with the smaller dimension. \n",
    "        \n",
    "        Example: if larger array is of size (3,2) and smaller (3) convert this to (1,3) or (3,4,3) and (3) then do (1,1,3).\n",
    "\n",
    "#### 2. Make each dimension of the two arrays the same size.\n",
    "        If the sizes of each dimension of the two arrays do not match,dimensions with size 1 are stretched to the other array.\n",
    "        \n",
    "        If there is a dimension whose size is not 1 in either of the two arrays, it cannot be broadcasted, and an error is raised.\n",
    "        \n",
    "        Example: (4,3) to (1,3) now (1,3) is need to convert in dimension (4,3) so (1,3) ka 1 is streched to 3 to become it (4,3).\n",
    "\n",
    "        Mean to say that agr row hamesha 1 rahegi aur column hmesha bdi value contain krega and hmesha row hi strech hogi dimension set krne k liye. \n",
    "\n",
    "        Broadcasting is super important concept and is used in vectorization. Since numpy avoid the loops, so it uses the faster technique called vectorization due to which numpy is super fast with numbers."
   ]
  },
  {
   "cell_type": "code",
   "execution_count": 154,
   "id": "a0242a91-08e6-4642-ad47-78a21f159b3e",
   "metadata": {},
   "outputs": [
    {
     "name": "stdout",
     "output_type": "stream",
     "text": [
      "[[ 0  1  2]\n",
      " [ 3  4  5]\n",
      " [ 6  7  8]\n",
      " [ 9 10 11]]\n",
      "[0 1 2]\n"
     ]
    }
   ],
   "source": [
    "# Examples of Broadcasting\n",
    "\n",
    "a = np.arange(12).reshape(4,3)\n",
    "b = np.arange(3)\n",
    "\n",
    "print(a)\n",
    "print(b)"
   ]
  },
  {
   "cell_type": "code",
   "execution_count": 156,
   "id": "80e3e0c7-1f7b-4c2b-a8ca-56a4c4b2edb3",
   "metadata": {},
   "outputs": [
    {
     "name": "stdout",
     "output_type": "stream",
     "text": [
      "[[ 0  2  4]\n",
      " [ 3  5  7]\n",
      " [ 6  8 10]\n",
      " [ 9 11 13]]\n"
     ]
    }
   ],
   "source": [
    "# above arrays are in shape 2D (4*3) and 1D (3) so we need to convert (3) in (1,3)\n",
    "# now secondly we need to convert this (1,3) to (4,3)\n",
    "\n",
    "print(a+b)"
   ]
  },
  {
   "cell_type": "code",
   "execution_count": 162,
   "id": "afb69e28-4e8e-4da2-ad9b-8713b11434ce",
   "metadata": {},
   "outputs": [
    {
     "name": "stdout",
     "output_type": "stream",
     "text": [
      "[[ 0  1  2  3]\n",
      " [ 4  5  6  7]\n",
      " [ 8  9 10 11]]\n",
      "[0 1 2]\n"
     ]
    },
    {
     "ename": "ValueError",
     "evalue": "operands could not be broadcast together with shapes (3,4) (3,) ",
     "output_type": "error",
     "traceback": [
      "\u001b[1;31m---------------------------------------------------------------------------\u001b[0m",
      "\u001b[1;31mValueError\u001b[0m                                Traceback (most recent call last)",
      "Cell \u001b[1;32mIn[162], line 9\u001b[0m\n\u001b[0;32m      6\u001b[0m \u001b[38;5;28mprint\u001b[39m(a)\n\u001b[0;32m      7\u001b[0m \u001b[38;5;28mprint\u001b[39m(b)\n\u001b[1;32m----> 9\u001b[0m \u001b[38;5;28mprint\u001b[39m(a\u001b[38;5;241m+\u001b[39mb)\n",
      "\u001b[1;31mValueError\u001b[0m: operands could not be broadcast together with shapes (3,4) (3,) "
     ]
    }
   ],
   "source": [
    "# if changing (4*3) to (3*4)\n",
    "\n",
    "a = np.arange(12).reshape(3,4)\n",
    "b = np.arange(3)\n",
    "\n",
    "print(a)\n",
    "print(b)\n",
    "\n",
    "print(a+b)   #it will not do broadcasting due to problem with shapes"
   ]
  },
  {
   "cell_type": "code",
   "execution_count": 164,
   "id": "2280220e-3e5d-44a7-93f4-0e5e9ff7114c",
   "metadata": {},
   "outputs": [
    {
     "ename": "ValueError",
     "evalue": "operands could not be broadcast together with shapes (3,4) (4,3) ",
     "output_type": "error",
     "traceback": [
      "\u001b[1;31m---------------------------------------------------------------------------\u001b[0m",
      "\u001b[1;31mValueError\u001b[0m                                Traceback (most recent call last)",
      "Cell \u001b[1;32mIn[164], line 6\u001b[0m\n\u001b[0;32m      3\u001b[0m a \u001b[38;5;241m=\u001b[39m np\u001b[38;5;241m.\u001b[39marange(\u001b[38;5;241m12\u001b[39m)\u001b[38;5;241m.\u001b[39mreshape(\u001b[38;5;241m3\u001b[39m,\u001b[38;5;241m4\u001b[39m)\n\u001b[0;32m      4\u001b[0m b \u001b[38;5;241m=\u001b[39m np\u001b[38;5;241m.\u001b[39marange(\u001b[38;5;241m12\u001b[39m)\u001b[38;5;241m.\u001b[39mreshape(\u001b[38;5;241m4\u001b[39m,\u001b[38;5;241m3\u001b[39m)\n\u001b[1;32m----> 6\u001b[0m \u001b[38;5;28mprint\u001b[39m(a\u001b[38;5;241m+\u001b[39mb)\n",
      "\u001b[1;31mValueError\u001b[0m: operands could not be broadcast together with shapes (3,4) (4,3) "
     ]
    }
   ],
   "source": [
    "# playing with different shapes and dimensions\n",
    "\n",
    "a = np.arange(12).reshape(3,4)\n",
    "b = np.arange(12).reshape(4,3)\n",
    "\n",
    "print(a+b)"
   ]
  },
  {
   "cell_type": "code",
   "execution_count": 166,
   "id": "f2b522d7-62b2-4cf9-9fa3-cc8bfbea1f8d",
   "metadata": {},
   "outputs": [
    {
     "ename": "ValueError",
     "evalue": "cannot reshape array of size 8 into shape (4,4)",
     "output_type": "error",
     "traceback": [
      "\u001b[1;31m---------------------------------------------------------------------------\u001b[0m",
      "\u001b[1;31mValueError\u001b[0m                                Traceback (most recent call last)",
      "Cell \u001b[1;32mIn[166], line 2\u001b[0m\n\u001b[0;32m      1\u001b[0m a \u001b[38;5;241m=\u001b[39m np\u001b[38;5;241m.\u001b[39marange(\u001b[38;5;241m4\u001b[39m)\u001b[38;5;241m.\u001b[39mreshape(\u001b[38;5;241m2\u001b[39m,\u001b[38;5;241m2\u001b[39m)\n\u001b[1;32m----> 2\u001b[0m b \u001b[38;5;241m=\u001b[39m np\u001b[38;5;241m.\u001b[39marange(\u001b[38;5;241m8\u001b[39m)\u001b[38;5;241m.\u001b[39mreshape(\u001b[38;5;241m4\u001b[39m,\u001b[38;5;241m4\u001b[39m)\n\u001b[0;32m      4\u001b[0m \u001b[38;5;28mprint\u001b[39m(a\u001b[38;5;241m+\u001b[39mb)\n",
      "\u001b[1;31mValueError\u001b[0m: cannot reshape array of size 8 into shape (4,4)"
     ]
    }
   ],
   "source": [
    "a = np.arange(4).reshape(2,2)\n",
    "b = np.arange(8).reshape(4,4)\n",
    "\n",
    "print(a+b)"
   ]
  },
  {
   "cell_type": "code",
   "execution_count": 176,
   "id": "83724154-7b1c-4503-ab2c-45ff35b0319d",
   "metadata": {},
   "outputs": [
    {
     "name": "stdout",
     "output_type": "stream",
     "text": [
      "[[ 0  1  2]\n",
      " [ 3  4  5]\n",
      " [ 6  7  8]\n",
      " [ 9 10 11]]\n"
     ]
    }
   ],
   "source": [
    "a = np.arange(1)\n",
    "b = np.arange(12).reshape(4,3)\n",
    "a\n",
    "b\n",
    "print(a+b)"
   ]
  },
  {
   "cell_type": "code",
   "execution_count": 184,
   "id": "cc9affc7-4591-4995-88c2-14d3a265df03",
   "metadata": {},
   "outputs": [
    {
     "name": "stdout",
     "output_type": "stream",
     "text": [
      "[[0 1]\n",
      " [2 3]]\n"
     ]
    }
   ],
   "source": [
    "a = np.arange(4).reshape(2,2)\n",
    "b = np.arange(1)\n",
    "a\n",
    "b\n",
    "print(a+b)"
   ]
  },
  {
   "cell_type": "code",
   "execution_count": 190,
   "id": "9a8940ee-4bd7-4a6b-87fd-7a56bc044c46",
   "metadata": {},
   "outputs": [
    {
     "name": "stdout",
     "output_type": "stream",
     "text": [
      "[[0 1 2]\n",
      " [1 2 3]\n",
      " [2 3 4]]\n"
     ]
    }
   ],
   "source": [
    "a = np.arange(3).reshape(3,1)\n",
    "b = np.arange(3).reshape(1,3)\n",
    "\n",
    "a\n",
    "b\n",
    "\n",
    "print(a+b)"
   ]
  },
  {
   "cell_type": "code",
   "execution_count": 196,
   "id": "2c9ea973-209a-4086-a65e-6d4c7660e226",
   "metadata": {},
   "outputs": [
    {
     "name": "stdout",
     "output_type": "stream",
     "text": [
      "[[0 1 2]\n",
      " [1 2 3]\n",
      " [2 3 4]\n",
      " [3 4 5]]\n"
     ]
    }
   ],
   "source": [
    "a = np.arange(4).reshape(4,1)\n",
    "b = np.arange(3).reshape(1,3)\n",
    "\n",
    "a\n",
    "b\n",
    "print(a+b)"
   ]
  },
  {
   "cell_type": "markdown",
   "id": "54fb3a37-b045-4ec5-8224-68683e44353b",
   "metadata": {},
   "source": [
    "### Working with mathematical formulas"
   ]
  },
  {
   "cell_type": "code",
   "execution_count": 208,
   "id": "98d37632-ec06-4367-aa24-61cea0f27de5",
   "metadata": {},
   "outputs": [
    {
     "name": "stdout",
     "output_type": "stream",
     "text": [
      "[0 1 2 3 4 5 6 7 8 9]\n",
      "45\n",
      "[ 0.          0.84147098  0.90929743  0.14112001 -0.7568025  -0.95892427\n",
      " -0.2794155   0.6569866   0.98935825  0.41211849]\n"
     ]
    }
   ],
   "source": [
    "a = np.arange(10)\n",
    "print(a)\n",
    "print(np.sum(a))\n",
    "print(np.sin(a))"
   ]
  },
  {
   "cell_type": "code",
   "execution_count": 212,
   "id": "68a41565-9ef4-4a2d-83f3-5493de3e24f9",
   "metadata": {},
   "outputs": [
    {
     "data": {
      "text/plain": [
       "array([0.5       , 0.73105858, 0.88079708, 0.95257413, 0.98201379,\n",
       "       0.99330715, 0.99752738, 0.99908895, 0.99966465, 0.99987661])"
      ]
     },
     "execution_count": 212,
     "metadata": {},
     "output_type": "execute_result"
    }
   ],
   "source": [
    "# sigmoid (this function is used in ML and DL)\n",
    "\n",
    "def sigmoid(array):\n",
    "    return 1/(1+np.exp(-(array)))\n",
    "\n",
    "a = np.arange(10)\n",
    "\n",
    "sigmoid(a)"
   ]
  },
  {
   "cell_type": "code",
   "execution_count": 216,
   "id": "6ac859d2-24ff-4730-bbe7-7184143c3991",
   "metadata": {},
   "outputs": [
    {
     "name": "stdout",
     "output_type": "stream",
     "text": [
      "[32 40 18 22  6  3 18 15 34 44 40 47  5 34 34 31 19 10 15 39 17 44 12 28\n",
      " 12]\n",
      "[13 20 15 36 36 13 40  2 30 27 40 16 29 10 31 42 32 27 18 38 37 40 17 24\n",
      "  1]\n"
     ]
    }
   ],
   "source": [
    "# mean squared error\n",
    "\n",
    "actual = np.random.randint(1,50,25)\n",
    "predicted = np.random.randint(1,50,25)\n",
    "\n",
    "print(actual)\n",
    "print(predicted)"
   ]
  },
  {
   "cell_type": "code",
   "execution_count": 218,
   "id": "56f76ecc-4c5c-476d-b4e9-69c5c1d2146b",
   "metadata": {},
   "outputs": [
    {
     "data": {
      "text/plain": [
       "248.52"
      ]
     },
     "execution_count": 218,
     "metadata": {},
     "output_type": "execute_result"
    }
   ],
   "source": [
    "# implementation of mean squared error\n",
    "\n",
    "def mse(actual,predicted):\n",
    "    return np.mean((actual - predicted)**2)\n",
    "mse(actual,predicted)"
   ]
  },
  {
   "cell_type": "code",
   "execution_count": 220,
   "id": "971affd5-06bf-43e0-822a-9d580c2822d6",
   "metadata": {},
   "outputs": [],
   "source": [
    "# binary cross entropy\n",
    "\n",
    "# do yourself"
   ]
  },
  {
   "cell_type": "markdown",
   "id": "de8a5002-85b4-423f-9bf1-f9b688976259",
   "metadata": {},
   "source": [
    "### Working with missing values"
   ]
  },
  {
   "cell_type": "code",
   "execution_count": 237,
   "id": "ef277e40-deef-4e6c-9345-7f2d4e986903",
   "metadata": {},
   "outputs": [
    {
     "name": "stdout",
     "output_type": "stream",
     "text": [
      "[ 1.  2.  3.  4. nan  6.]\n",
      "[array([False, False, False, False,  True, False])]\n",
      "[1. 2. 3. 4. 6.]\n"
     ]
    }
   ],
   "source": [
    "# Working with missing values -> np.nan\n",
    "\n",
    "a = np.array([1,2,3,4,np.nan,6])\n",
    "print(a)\n",
    "\n",
    "print([np.isnan(a)])\n",
    "\n",
    "print(a[~np.isnan(a)])"
   ]
  },
  {
   "cell_type": "markdown",
   "id": "b704de3a-b4aa-44af-9f64-a3ff8f7ab908",
   "metadata": {},
   "source": [
    "### Plotting Graphs"
   ]
  },
  {
   "cell_type": "code",
   "execution_count": 260,
   "id": "d593404b-aa5e-418d-8883-c30b77de35f2",
   "metadata": {},
   "outputs": [
    {
     "name": "stdout",
     "output_type": "stream",
     "text": [
      "[-5.         -4.47368421 -3.94736842 -3.42105263 -2.89473684 -2.36842105\n",
      " -1.84210526 -1.31578947 -0.78947368 -0.26315789  0.26315789  0.78947368\n",
      "  1.31578947  1.84210526  2.36842105  2.89473684  3.42105263  3.94736842\n",
      "  4.47368421  5.        ]\n"
     ]
    },
    {
     "data": {
      "text/plain": [
       "[<matplotlib.lines.Line2D at 0x2cc8397d2e0>]"
      ]
     },
     "execution_count": 260,
     "metadata": {},
     "output_type": "execute_result"
    },
    {
     "data": {
      "image/png": "[encoded data removed]",
      "text/plain": [
       "<Figure size 640x480 with 1 Axes>"
      ]
     },
     "metadata": {},
     "output_type": "display_data"
    }
   ],
   "source": [
    "# plotting a 2D plot\n",
    "# x = y\n",
    "import matplotlib.pyplot as plt\n",
    "\n",
    "x = np.linspace(-5,5,20)\n",
    "print(x)\n",
    "\n",
    "y = x\n",
    "\n",
    "plt.plot(x,y)"
   ]
  },
  {
   "cell_type": "code",
   "execution_count": 272,
   "id": "cb73a20a-032a-48a8-b631-0bd923976fb3",
   "metadata": {},
   "outputs": [
    {
     "name": "stdout",
     "output_type": "stream",
     "text": [
      "[-7.         -6.51724138 -6.03448276 -5.55172414 -5.06896552 -4.5862069\n",
      " -4.10344828 -3.62068966 -3.13793103 -2.65517241 -2.17241379 -1.68965517\n",
      " -1.20689655 -0.72413793 -0.24137931  0.24137931  0.72413793  1.20689655\n",
      "  1.68965517  2.17241379  2.65517241  3.13793103  3.62068966  4.10344828\n",
      "  4.5862069   5.06896552  5.55172414  6.03448276  6.51724138  7.        ]\n",
      "[49.         42.4744352  36.41498216 30.8216409  25.69441141 21.0332937\n",
      " 16.83828775 13.10939358  9.84661118  7.04994055  4.71938169  2.8549346\n",
      "  1.45659929  0.52437574  0.05826397  0.05826397  0.52437574  1.45659929\n",
      "  2.8549346   4.71938169  7.04994055  9.84661118 13.10939358 16.83828775\n",
      " 21.0332937  25.69441141 30.8216409  36.41498216 42.4744352  49.        ]\n"
     ]
    },
    {
     "data": {
      "text/plain": [
       "[<matplotlib.lines.Line2D at 0x2cc831726c0>]"
      ]
     },
     "execution_count": 272,
     "metadata": {},
     "output_type": "execute_result"
    },
    {
     "data": {
      "image/png": "[encoded data removed]",
      "text/plain": [
       "<Figure size 640x480 with 1 Axes>"
      ]
     },
     "metadata": {},
     "output_type": "display_data"
    }
   ],
   "source": [
    "# y = x^2\n",
    "\n",
    "x = np.linspace(-7,7,30)\n",
    "print(x)\n",
    "\n",
    "y = x**2\n",
    "print(y)\n",
    "\n",
    "plt.plot(x,y)"
   ]
  },
  {
   "cell_type": "code",
   "execution_count": 280,
   "id": "44fb0ed9-491b-4c77-9ac6-ef14a1d07594",
   "metadata": {},
   "outputs": [
    {
     "name": "stdout",
     "output_type": "stream",
     "text": [
      "[-9.         -8.53846154 -8.07692308 -7.61538462 -7.15384615 -6.69230769\n",
      " -6.23076923 -5.76923077 -5.30769231 -4.84615385 -4.38461538 -3.92307692\n",
      " -3.46153846 -3.         -2.53846154 -2.07692308 -1.61538462 -1.15384615\n",
      " -0.69230769 -0.23076923  0.23076923  0.69230769  1.15384615  1.61538462\n",
      "  2.07692308  2.53846154  3.          3.46153846  3.92307692  4.38461538\n",
      "  4.84615385  5.30769231  5.76923077  6.23076923  6.69230769  7.15384615\n",
      "  7.61538462  8.07692308  8.53846154  9.        ]\n",
      "[-0.41211849 -0.77474799 -0.97525132 -0.97167051 -0.7647549  -0.3978043\n",
      "  0.05239208  0.49162472  0.82797844  0.99106681  0.94676145  0.70433383\n",
      "  0.31451512 -0.14112001 -0.56722392 -0.87462879 -0.99900611 -0.91432829\n",
      " -0.63831528 -0.22872643  0.22872643  0.63831528  0.91432829  0.99900611\n",
      "  0.87462879  0.56722392  0.14112001 -0.31451512 -0.70433383 -0.94676145\n",
      " -0.99106681 -0.82797844 -0.49162472 -0.05239208  0.3978043   0.7647549\n",
      "  0.97167051  0.97525132  0.77474799  0.41211849]\n"
     ]
    },
    {
     "data": {
      "text/plain": [
       "[<matplotlib.lines.Line2D at 0x2cc8322cfe0>]"
      ]
     },
     "execution_count": 280,
     "metadata": {},
     "output_type": "execute_result"
    },
    {
     "data": {
      "image/png": "[encoded data removed]",
      "text/plain": [
       "<Figure size 640x480 with 1 Axes>"
      ]
     },
     "metadata": {},
     "output_type": "display_data"
    }
   ],
   "source": [
    "# y = sin(x)\n",
    "\n",
    "x = np.linspace(-9,9,40)\n",
    "print(x)\n",
    "\n",
    "y = np.sin(x)\n",
    "print(y)\n",
    "\n",
    "plt.plot(x,y)"
   ]
  },
  {
   "cell_type": "code",
   "execution_count": 288,
   "id": "45dca8d9-1b7c-4a43-bcad-05724b9e8b02",
   "metadata": {},
   "outputs": [
    {
     "name": "stdout",
     "output_type": "stream",
     "text": [
      "[-10.          -9.59183673  -9.18367347  -8.7755102   -8.36734694\n",
      "  -7.95918367  -7.55102041  -7.14285714  -6.73469388  -6.32653061\n",
      "  -5.91836735  -5.51020408  -5.10204082  -4.69387755  -4.28571429\n",
      "  -3.87755102  -3.46938776  -3.06122449  -2.65306122  -2.24489796\n",
      "  -1.83673469  -1.42857143  -1.02040816  -0.6122449   -0.20408163\n",
      "   0.20408163   0.6122449    1.02040816   1.42857143   1.83673469\n",
      "   2.24489796   2.65306122   3.06122449   3.46938776   3.87755102\n",
      "   4.28571429   4.69387755   5.10204082   5.51020408   5.91836735\n",
      "   6.32653061   6.73469388   7.14285714   7.55102041   7.95918367\n",
      "   8.36734694   8.7755102    9.18367347   9.59183673  10.        ]\n",
      "[            nan             nan             nan             nan\n",
      "             nan             nan             nan             nan\n",
      "             nan             nan             nan             nan\n",
      "             nan             nan             nan             nan\n",
      "             nan             nan             nan             nan\n",
      "             nan             nan             nan             nan\n",
      "             nan -3.24333715e-01 -3.00381377e-01  2.06150075e-02\n",
      "  5.09535634e-01  1.11671517e+00  1.81535934e+00  2.58862938e+00\n",
      "  3.42494387e+00  4.31584252e+00  5.25487178e+00  6.23694528e+00\n",
      "  7.25795046e+00  8.31449296e+00  9.40372344e+00  1.05232159e+01\n",
      "  1.16708800e+01  1.28448955e+01  1.40436633e+01  1.52657674e+01\n",
      "  1.65099451e+01  1.77750635e+01  1.90601002e+01  2.03641281e+01\n",
      "  2.16863026e+01  2.30258509e+01]\n"
     ]
    },
    {
     "name": "stderr",
     "output_type": "stream",
     "text": [
      "C:\\Users\\Anand S\\AppData\\Local\\Temp\\ipykernel_27248\\1383648355.py:5: RuntimeWarning: invalid value encountered in log\n",
      "  y = x * np.log(x)\n"
     ]
    },
    {
     "data": {
      "text/plain": [
       "[<matplotlib.lines.Line2D at 0x2cc831ab6e0>]"
      ]
     },
     "execution_count": 288,
     "metadata": {},
     "output_type": "execute_result"
    },
    {
     "data": {
      "image/png": "[encoded data removed]",
      "text/plain": [
       "<Figure size 640x480 with 1 Axes>"
      ]
     },
     "metadata": {},
     "output_type": "display_data"
    }
   ],
   "source": [
    "# y = xlog(x)\n",
    "x = np.linspace(-10,10,50)\n",
    "print(x)\n",
    "\n",
    "y = x * np.log(x)\n",
    "print(y)\n",
    "\n",
    "plt.plot(x,y)"
   ]
  },
  {
   "cell_type": "code",
   "execution_count": 300,
   "id": "5b762bc8-baae-48c4-9092-608989a9a031",
   "metadata": {},
   "outputs": [
    {
     "name": "stdout",
     "output_type": "stream",
     "text": [
      "[-10.          -9.7979798   -9.5959596   -9.39393939  -9.19191919\n",
      "  -8.98989899  -8.78787879  -8.58585859  -8.38383838  -8.18181818\n",
      "  -7.97979798  -7.77777778  -7.57575758  -7.37373737  -7.17171717\n",
      "  -6.96969697  -6.76767677  -6.56565657  -6.36363636  -6.16161616\n",
      "  -5.95959596  -5.75757576  -5.55555556  -5.35353535  -5.15151515\n",
      "  -4.94949495  -4.74747475  -4.54545455  -4.34343434  -4.14141414\n",
      "  -3.93939394  -3.73737374  -3.53535354  -3.33333333  -3.13131313\n",
      "  -2.92929293  -2.72727273  -2.52525253  -2.32323232  -2.12121212\n",
      "  -1.91919192  -1.71717172  -1.51515152  -1.31313131  -1.11111111\n",
      "  -0.90909091  -0.70707071  -0.50505051  -0.3030303   -0.1010101\n",
      "   0.1010101    0.3030303    0.50505051   0.70707071   0.90909091\n",
      "   1.11111111   1.31313131   1.51515152   1.71717172   1.91919192\n",
      "   2.12121212   2.32323232   2.52525253   2.72727273   2.92929293\n",
      "   3.13131313   3.33333333   3.53535354   3.73737374   3.93939394\n",
      "   4.14141414   4.34343434   4.54545455   4.74747475   4.94949495\n",
      "   5.15151515   5.35353535   5.55555556   5.75757576   5.95959596\n",
      "   6.16161616   6.36363636   6.56565657   6.76767677   6.96969697\n",
      "   7.17171717   7.37373737   7.57575758   7.77777778   7.97979798\n",
      "   8.18181818   8.38383838   8.58585859   8.78787879   8.98989899\n",
      "   9.19191919   9.39393939   9.5959596    9.7979798   10.        ]\n",
      "[4.53978687e-05 5.55606489e-05 6.79983174e-05 8.32200197e-05\n",
      " 1.01848815e-04 1.24647146e-04 1.52547986e-04 1.86692945e-04\n",
      " 2.28478855e-04 2.79614739e-04 3.42191434e-04 4.18766684e-04\n",
      " 5.12469082e-04 6.27124987e-04 7.67413430e-04 9.39055039e-04\n",
      " 1.14904229e-03 1.40591988e-03 1.72012560e-03 2.10440443e-03\n",
      " 2.57431039e-03 3.14881358e-03 3.85103236e-03 4.70911357e-03\n",
      " 5.75728612e-03 7.03711536e-03 8.59898661e-03 1.05038445e-02\n",
      " 1.28252101e-02 1.56514861e-02 1.90885420e-02 2.32625358e-02\n",
      " 2.83228820e-02 3.44451957e-02 4.18339400e-02 5.07243606e-02\n",
      " 6.13831074e-02 7.41067363e-02 8.92170603e-02 1.07052146e-01\n",
      " 1.27951705e-01 1.52235823e-01 1.80176593e-01 2.11963334e-01\n",
      " 2.47663801e-01 2.87185901e-01 3.30246430e-01 3.76354517e-01\n",
      " 4.24816868e-01 4.74768924e-01 5.25231076e-01 5.75183132e-01\n",
      " 6.23645483e-01 6.69753570e-01 7.12814099e-01 7.52336199e-01\n",
      " 7.88036666e-01 8.19823407e-01 8.47764177e-01 8.72048295e-01\n",
      " 8.92947854e-01 9.10782940e-01 9.25893264e-01 9.38616893e-01\n",
      " 9.49275639e-01 9.58166060e-01 9.65554804e-01 9.71677118e-01\n",
      " 9.76737464e-01 9.80911458e-01 9.84348514e-01 9.87174790e-01\n",
      " 9.89496155e-01 9.91401013e-01 9.92962885e-01 9.94242714e-01\n",
      " 9.95290886e-01 9.96148968e-01 9.96851186e-01 9.97425690e-01\n",
      " 9.97895596e-01 9.98279874e-01 9.98594080e-01 9.98850958e-01\n",
      " 9.99060945e-01 9.99232587e-01 9.99372875e-01 9.99487531e-01\n",
      " 9.99581233e-01 9.99657809e-01 9.99720385e-01 9.99771521e-01\n",
      " 9.99813307e-01 9.99847452e-01 9.99875353e-01 9.99898151e-01\n",
      " 9.99916780e-01 9.99932002e-01 9.99944439e-01 9.99954602e-01]\n"
     ]
    },
    {
     "data": {
      "text/plain": [
       "[<matplotlib.lines.Line2D at 0x2cc83ae6030>]"
      ]
     },
     "execution_count": 300,
     "metadata": {},
     "output_type": "execute_result"
    },
    {
     "data": {
      "image/png": "[encoded data removed]",
      "text/plain": [
       "<Figure size 640x480 with 1 Axes>"
      ]
     },
     "metadata": {},
     "output_type": "display_data"
    }
   ],
   "source": [
    "# sigmoid ka graph\n",
    "x = np.linspace(-10,10,100)\n",
    "print(x)\n",
    "\n",
    "y = 1/(1 + np.exp(-x))\n",
    "print(y)\n",
    "\n",
    "plt.plot(x,y)"
   ]
  }
 ],
 "metadata": {
  "kernelspec": {
   "display_name": "Python 3 (ipykernel)",
   "language": "python",
   "name": "python3"
  },
  "language_info": {
   "codemirror_mode": {
    "name": "ipython",
    "version": 3
   },
   "file_extension": ".py",
   "mimetype": "text/x-python",
   "name": "python",
   "nbconvert_exporter": "python",
   "pygments_lexer": "ipython3",
   "version": "3.12.4"
  }
 },
 "nbformat": 4,
 "nbformat_minor": 5
}
