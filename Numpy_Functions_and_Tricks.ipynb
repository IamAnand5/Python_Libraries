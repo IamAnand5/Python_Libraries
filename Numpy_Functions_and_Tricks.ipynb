{
 "cells": [
  {
   "cell_type": "markdown",
   "id": "e51a0069-f6ca-4802-9e3b-07c1af18d9b0",
   "metadata": {},
   "source": [
    "#### np.sort()\n",
    "    Return a sorted copy of array."
   ]
  },
  {
   "cell_type": "code",
   "execution_count": 5,
   "id": "097cf087-1d89-4e3c-882d-3abdc9092093",
   "metadata": {},
   "outputs": [],
   "source": [
    "import numpy as np"
   ]
  },
  {
   "cell_type": "code",
   "execution_count": 17,
   "id": "4ebc4b79-326b-4937-9537-2b329060e964",
   "metadata": {},
   "outputs": [
    {
     "name": "stdout",
     "output_type": "stream",
     "text": [
      "[72 35 84 22 37 66 85 55 31 86 43 50 58 54 89 74 44 38 69 72]\n"
     ]
    }
   ],
   "source": [
    "a = np.random.randint(20,90,20)\n",
    "print(a)"
   ]
  },
  {
   "cell_type": "code",
   "execution_count": 19,
   "id": "9527fb2e-cab6-4364-9c35-ecff32948735",
   "metadata": {},
   "outputs": [
    {
     "name": "stdout",
     "output_type": "stream",
     "text": [
      "[[49 40 35 46]\n",
      " [43 34 37 29]\n",
      " [15 33 44 14]\n",
      " [31 23 49 20]\n",
      " [43 21 18 15]\n",
      " [43 25 17 20]]\n"
     ]
    }
   ],
   "source": [
    "b = np.random.randint(10,50,24).reshape(6,4)\n",
    "print(b)"
   ]
  },
  {
   "cell_type": "code",
   "execution_count": 21,
   "id": "d1d56c7c-0d9d-4fc2-849e-c90915298960",
   "metadata": {},
   "outputs": [
    {
     "data": {
      "text/plain": [
       "array([22, 31, 35, 37, 38, 43, 44, 50, 54, 55, 58, 66, 69, 72, 72, 74, 84,\n",
       "       85, 86, 89])"
      ]
     },
     "execution_count": 21,
     "metadata": {},
     "output_type": "execute_result"
    }
   ],
   "source": [
    "np.sort(a)\n"
   ]
  },
  {
   "cell_type": "code",
   "execution_count": null,
   "id": "86bfb444-908b-47d8-8b26-72f9f5505c79",
   "metadata": {},
   "outputs": [],
   "source": []
  }
 ],
 "metadata": {
  "kernelspec": {
   "display_name": "Python 3 (ipykernel)",
   "language": "python",
   "name": "python3"
  },
  "language_info": {
   "codemirror_mode": {
    "name": "ipython",
    "version": 3
   },
   "file_extension": ".py",
   "mimetype": "text/x-python",
   "name": "python",
   "nbconvert_exporter": "python",
   "pygments_lexer": "ipython3",
   "version": "3.12.4"
  }
 },
 "nbformat": 4,
 "nbformat_minor": 5
}
